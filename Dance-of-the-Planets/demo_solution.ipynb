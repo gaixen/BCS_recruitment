{
  "metadata": {
    "kernelspec": {
      "language": "python",
      "display_name": "Python 3",
      "name": "python3"
    },
    "language_info": {
      "name": "python",
      "version": "3.11.11",
      "mimetype": "text/x-python",
      "codemirror_mode": {
        "name": "ipython",
        "version": 3
      },
      "pygments_lexer": "ipython3",
      "nbconvert_exporter": "python",
      "file_extension": ".py"
    },
    "kaggle": {
      "accelerator": "none",
      "dataSources": [],
      "dockerImageVersionId": 31040,
      "isInternetEnabled": true,
      "language": "python",
      "sourceType": "notebook",
      "isGpuEnabled": false
    },
    "colab": {
      "provenance": []
    }
  },
  "nbformat_minor": 0,
  "nbformat": 4,
  "cells": [
    {
      "cell_type": "markdown",
      "source": [
        "### installing dependencies"
      ],
      "metadata": {
        "id": "n9T5Zn7pjLVT"
      }
    },
    {
      "cell_type": "code",
      "source": [
        "import numpy as np # linear algebra\n",
        "import pandas as pd # data processing, CSV file I/O (e.g. pd.read_csv)\n",
        "import torch #working with tensors"
      ],
      "metadata": {
        "_uuid": "8f2839f25d086af736a60e9eeb907d3b93b6e0e5",
        "_cell_guid": "b1076dfc-b9ad-4769-8c92-a6c4dae69d19",
        "trusted": true,
        "execution": {
          "iopub.status.busy": "2025-05-14T07:41:00.953905Z",
          "iopub.execute_input": "2025-05-14T07:41:00.954244Z",
          "iopub.status.idle": "2025-05-14T07:41:00.960145Z"
        },
        "id": "JacEP5Aa0nRZ"
      },
      "outputs": [],
      "execution_count": 237
    },
    {
      "cell_type": "code",
      "source": [
        "from sklearn.model_selection import train_test_split"
      ],
      "metadata": {
        "id": "x0tNdRdRbhlo"
      },
      "execution_count": 238,
      "outputs": []
    },
    {
      "cell_type": "markdown",
      "source": [
        "###user inputs"
      ],
      "metadata": {
        "id": "GQxmwUFgicjL"
      }
    },
    {
      "cell_type": "code",
      "source": [
        "#considering them as simple numeric values\n",
        "G = 1.0\n",
        "m1 = 4.0\n",
        "m2 = 1.0\n",
        "#I decide to give the masses equally opposite speeds and keeping them at symmetric positions w.r.t. x=0\n",
        "#Initial positions vectors\n",
        "x1_0 = torch.tensor([1.0, 0.0], dtype=torch.float32)\n",
        "x2_0 = torch.tensor([-1.0, 0.0], dtype=torch.float32)\n",
        "\n",
        "#Initial velocities vectors\n",
        "v1_0 = torch.tensor([0.5, 0.5], dtype=torch.float32)\n",
        "v2_0 = torch.tensor([-0.5, -0.5], dtype=torch.float32)\n",
        "\n",
        "# Prediction time\n",
        "T = 5.0  #in seconds\n"
      ],
      "metadata": {
        "trusted": true,
        "execution": {
          "iopub.status.busy": "2025-05-14T07:41:00.961754Z",
          "iopub.execute_input": "2025-05-14T07:41:00.962470Z",
          "iopub.status.idle": "2025-05-14T07:41:00.984088Z",
          "shell.execute_reply.started": "2025-05-14T07:41:00.962444Z",
          "shell.execute_reply": "2025-05-14T07:41:00.983302Z"
        },
        "id": "kUO8mPzP0nRa"
      },
      "outputs": [],
      "execution_count": 239
    },
    {
      "cell_type": "markdown",
      "source": [
        "### Data generation"
      ],
      "metadata": {
        "id": "bty2Rr2zl7gy"
      }
    },
    {
      "cell_type": "code",
      "source": [
        "#ground truth data for two-body ODE generated with physics solver_ivp\n",
        "from scipy.integrate import solve_ivp\n",
        "\n",
        "def newtonian_gravity_eqs(t, y, m1, m2):\n",
        "    x1 = y[:2]\n",
        "    v1 = y[2:4]\n",
        "    x2 = y[4:6]\n",
        "    v2 = y[6:8]\n",
        "    r12 = np.linalg.norm(x2 - x1)\n",
        "    a1 = G * m2 * (x2 - x1) / r12**3\n",
        "    a2 = G * m1 * (x1 - x2) / r12**3\n",
        "    return np.concatenate([v1, a1, v2, a2])\n",
        "y0 = np.concatenate([x1_0, v1_0, x2_0, v2_0])\n",
        "t_span = (0, T)\n",
        "t_eval = np.linspace(0, T, 100)\n",
        "sol = solve_ivp(newtonian_gravity_eqs, t_span, y0, t_eval=t_eval, args=(m1, m2))\n",
        "# Ground truth trajectories\n",
        "x1_true = sol.y[:2].T  # shape: (timesteps, 2)\n",
        "x2_true = sol.y[4:6].T\n",
        "t_data = sol.t.reshape(-1, 1)\n"
      ],
      "metadata": {
        "trusted": true,
        "execution": {
          "iopub.status.busy": "2025-05-14T07:41:00.984982Z",
          "iopub.execute_input": "2025-05-14T07:41:00.985303Z",
          "iopub.status.idle": "2025-05-14T07:41:01.002519Z",
          "shell.execute_reply.started": "2025-05-14T07:41:00.985260Z",
          "shell.execute_reply": "2025-05-14T07:41:01.001590Z"
        },
        "id": "kWdB2j160nRa"
      },
      "outputs": [],
      "execution_count": 240
    },
    {
      "cell_type": "code",
      "source": [
        "# def generate_dataset(m1, m2, x1_0, v1_0, x2_0, v2_0, t_max=10.0, num_points=500):\n",
        "#     y0 = np.concatenate([x1_0, v1_0, x2_0, v2_0])\n",
        "#     t_eval = np.linspace(0, t_max, num_points)\n",
        "#     sol = solve_ivp(fun=lambda t, y: newtonian_gravity_eqs(t, y, m1, m2),\n",
        "#                     t_span=(0, t_max),\n",
        "#                     y0=y0,\n",
        "#                     t_eval=t_eval,\n",
        "#                     method='RK45')\n",
        "\n",
        "#     t_data = sol.t.reshape(-1, 1)  # shape (N, 1)\n",
        "#     y_data = sol.y.T               # shape (N, 8)\n",
        "#     return t_data, y_data\n"
      ],
      "metadata": {
        "id": "pRjR8urC9bxi"
      },
      "execution_count": 241,
      "outputs": []
    },
    {
      "cell_type": "markdown",
      "source": [
        "### Model Definition"
      ],
      "metadata": {
        "id": "gqS4XaM3nzmh"
      }
    },
    {
      "cell_type": "code",
      "source": [
        "#train the neural network as per universal approximation theorem\n",
        "import torch.nn as nn\n",
        "class PINN(nn.Module):\n",
        "    def __init__(self):\n",
        "        super().__init__()\n",
        "        self.net = nn.Sequential(\n",
        "            nn.Linear(1, 128),\n",
        "            nn.Tanh(),\n",
        "            nn.Linear(128, 128),\n",
        "            nn.Tanh(),\n",
        "            nn.Linear(128, 8)  # Output: x1, v1, x2, v2 (each 2D)\n",
        "        )\n",
        "\n",
        "    def forward(self, t):\n",
        "      return self.net(t)\n",
        "model = PINN()\n"
      ],
      "metadata": {
        "trusted": true,
        "execution": {
          "iopub.status.busy": "2025-05-14T07:41:01.003428Z",
          "iopub.execute_input": "2025-05-14T07:41:01.003720Z",
          "iopub.status.idle": "2025-05-14T07:41:01.011172Z",
          "shell.execute_reply.started": "2025-05-14T07:41:01.003692Z",
          "shell.execute_reply": "2025-05-14T07:41:01.010369Z"
        },
        "id": "xT5iETzQ0nRa"
      },
      "outputs": [],
      "execution_count": 242
    },
    {
      "cell_type": "code",
      "source": [
        "# hyperparameter-tuning\n",
        "l_ODEloss=0.2\n",
        "l_dataloss=1.0"
      ],
      "metadata": {
        "id": "vPLbG5_9TBiO"
      },
      "execution_count": 243,
      "outputs": []
    },
    {
      "cell_type": "code",
      "source": [
        "t_train_np,t_test_np,x1_train_np,x1_test_np,x2_train_np,x2_test_np=train_test_split(t_data,x1_true,x2_true,test_size=0.2,random_state=42)"
      ],
      "metadata": {
        "id": "TtNBbcUGbgej"
      },
      "execution_count": 244,
      "outputs": []
    },
    {
      "cell_type": "code",
      "source": [
        "#optimize the parameters with learning rate =o.oo1\n",
        "#using Adam Optimizer\n",
        "t_train = torch.tensor(t_train_np, dtype=torch.float32, requires_grad=True)\n",
        "x1_train = torch.tensor(x1_train_np, dtype=torch.float32)\n",
        "x2_train = torch.tensor(x2_train_np, dtype=torch.float32)\n",
        "\n",
        "t_test = torch.tensor(t_test_np, dtype=torch.float32, requires_grad=True)\n",
        "x1_test = torch.tensor(x1_test_np, dtype=torch.float32)\n",
        "x2_test = torch.tensor(x2_test_np, dtype=torch.float32)\n",
        "\n",
        "\n",
        "optimizer = torch.optim.Adam(model.parameters(), lr=0.001)\n",
        "def ode_residue(model, t, m1, m2):\n",
        "    pred = model(t)\n",
        "    x1, v1, x2, v2 = torch.split(pred, 2, dim=1)\n",
        "#First derivatives (velocities)= dx/dt = v, so we get dV/dt = a\n",
        "    a1 = torch.zeros_like(v1)\n",
        "    a2 = torch.zeros_like(v2)\n",
        "    for i in range(2):  # loop over x and y components\n",
        "        grad_v1_i = torch.autograd.grad(v1[:, i], t, grad_outputs=torch.ones_like(v1[:, i]), create_graph=True)[0]\n",
        "        grad_v2_i = torch.autograd.grad(v2[:, i], t, grad_outputs=torch.ones_like(v2[:, i]), create_graph=True)[0]\n",
        "        a1[:, i] = grad_v1_i.squeeze()\n",
        "        a2[:, i] = grad_v2_i.squeeze()\n",
        "\n",
        "    #Compute true acceleration from Newton's law\n",
        "    r = x2 - x1\n",
        "    r_normal = torch.norm(r, dim=1, keepdim=True) + 1e-6\n",
        "    a1_newtonian_model = G * m2 * r / r_normal**3\n",
        "    a2_newtonian_model = -G * m1 * r / r_normal**3\n",
        "\n",
        "    #Mean squared ODE residual\n",
        "    return ((a1 - a1_newtonian_model)**2).mean() + ((a2 - a2_newtonian_model)**2).mean()\n",
        "\n",
        "\n",
        "#loss function penalises the model for both data loss and ODE loss\n",
        "#model performace depends on the weights given to them relative to each other\n",
        "def total_loss(model, t, x1_true, x2_true):\n",
        "    pred = model(t)\n",
        "    x1_pred, _, x2_pred, _ = torch.split(pred, 2, dim=1)\n",
        "    data_loss = nn.MSELoss()(x1_pred, x1_true) + nn.MSELoss()(x2_pred, x2_true)\n",
        "    ode_loss = ode_residue(model, t, m1, m2)\n",
        "    return l_dataloss*data_loss + l_ODEloss*ode_loss, data_loss.item(), ode_loss.item()\n",
        "for epoch in range(4000):\n",
        "    optimizer.zero_grad()\n",
        "    loss, data_loss, ode_loss = total_loss(model, t_train, x1_train, x2_train)\n",
        "    #back-propagation for optimizing the parameters\n",
        "    loss.backward()\n",
        "    optimizer.step()\n",
        "    if epoch % 200 == 0:\n",
        "        print(f\"Epoch {epoch}, Loss: {loss.item():.5f}, Data Loss: {data_loss:.5f}, ODE Loss: {ode_loss:.5f}\")\n"
      ],
      "metadata": {
        "trusted": true,
        "execution": {
          "iopub.status.busy": "2025-05-14T07:42:20.065298Z",
          "iopub.execute_input": "2025-05-14T07:42:20.065628Z",
          "iopub.status.idle": "2025-05-14T07:42:29.378278Z",
          "shell.execute_reply.started": "2025-05-14T07:42:20.065604Z",
          "shell.execute_reply": "2025-05-14T07:42:29.377497Z"
        },
        "id": "PgBUvKLx0nRa",
        "outputId": "10750482-a0c9-4395-db12-2305d58c883d",
        "colab": {
          "base_uri": "https://localhost:8080/"
        }
      },
      "outputs": [
        {
          "output_type": "stream",
          "name": "stdout",
          "text": [
            "Epoch 0, Loss: 36.57490, Data Loss: 3.65055, ODE Loss: 164.62173\n",
            "Epoch 200, Loss: 0.63916, Data Loss: 0.57873, ODE Loss: 0.30213\n",
            "Epoch 400, Loss: 0.25409, Data Loss: 0.23728, ODE Loss: 0.08404\n",
            "Epoch 600, Loss: 0.16509, Data Loss: 0.15152, ODE Loss: 0.06785\n",
            "Epoch 800, Loss: 0.11287, Data Loss: 0.10063, ODE Loss: 0.06120\n",
            "Epoch 1000, Loss: 0.08235, Data Loss: 0.07121, ODE Loss: 0.05570\n",
            "Epoch 1200, Loss: 0.06339, Data Loss: 0.05389, ODE Loss: 0.04752\n",
            "Epoch 1400, Loss: 0.05130, Data Loss: 0.04301, ODE Loss: 0.04144\n",
            "Epoch 1600, Loss: 0.04314, Data Loss: 0.03589, ODE Loss: 0.03627\n",
            "Epoch 1800, Loss: 0.03715, Data Loss: 0.03094, ODE Loss: 0.03106\n",
            "Epoch 2000, Loss: 0.03250, Data Loss: 0.02723, ODE Loss: 0.02634\n",
            "Epoch 2200, Loss: 0.02868, Data Loss: 0.02424, ODE Loss: 0.02220\n",
            "Epoch 2400, Loss: 0.02550, Data Loss: 0.02171, ODE Loss: 0.01897\n",
            "Epoch 2600, Loss: 0.02297, Data Loss: 0.01956, ODE Loss: 0.01706\n",
            "Epoch 2800, Loss: 0.02104, Data Loss: 0.01780, ODE Loss: 0.01623\n",
            "Epoch 3000, Loss: 0.01953, Data Loss: 0.01636, ODE Loss: 0.01582\n",
            "Epoch 3200, Loss: 0.01827, Data Loss: 0.01518, ODE Loss: 0.01542\n",
            "Epoch 3400, Loss: 0.01717, Data Loss: 0.01417, ODE Loss: 0.01498\n",
            "Epoch 3600, Loss: 0.01616, Data Loss: 0.01327, ODE Loss: 0.01444\n",
            "Epoch 3800, Loss: 0.01520, Data Loss: 0.01245, ODE Loss: 0.01373\n"
          ]
        }
      ],
      "execution_count": 245
    },
    {
      "cell_type": "markdown",
      "source": [
        "####Unseen Test Dataset"
      ],
      "metadata": {
        "id": "Cw9wyfkpu-A4"
      }
    },
    {
      "cell_type": "code",
      "source": [
        "# G = 1.0\n",
        "# m1_test = 1.2\n",
        "# m2_test = 0.9\n",
        "# x1_0_test = np.array([-1.2, 0.2])\n",
        "# x2_0_test = np.array([1.3, -0.1])\n",
        "# v1_0_test = np.array([0.0, 0.6])\n",
        "# v2_0_test = np.array([0.0, -0.4])\n",
        "# T_test = 10.0\n",
        "# num_points_test = 500\n",
        "# t_eval_test = np.linspace(0, T_test, num_points_test)\n",
        "# def newtonian_gravity_eqs(t, y, m1, m2):\n",
        "#     x1 = y[:2]\n",
        "#     v1 = y[2:4]\n",
        "#     x2 = y[4:6]\n",
        "#     v2 = y[6:8]\n",
        "#     r12 = np.linalg.norm(x2 - x1)\n",
        "#     a1 = G * m2 * (x2 - x1) / r12**3\n",
        "#     a2 = G * m1 * (x1 - x2) / r12**3\n",
        "#     return np.concatenate([v1, a1, v2, a2])\n",
        "# y0_test = np.concatenate([x1_0_test, v1_0_test, x2_0_test, v2_0_test])\n",
        "# sol_test = solve_ivp(\n",
        "#     newtonian_gravity_eqs,\n",
        "#     t_span=(0, T_test),\n",
        "#     y0=y0_test,\n",
        "#     t_eval=t_eval_test,\n",
        "#     args=(m1_test, m2_test)\n",
        "# )\n",
        "\n",
        "# t_test = sol_test.t.reshape(-1, 1)\n",
        "# y_test = sol_test.y.T\n",
        "# x1_test = y_test[:, :2]\n",
        "# x2_test = y_test[:, 4:6]"
      ],
      "metadata": {
        "id": "NGaZ-iRSvEB6"
      },
      "execution_count": 246,
      "outputs": []
    },
    {
      "cell_type": "markdown",
      "source": [
        "### Evaluation criteria"
      ],
      "metadata": {
        "id": "aRj3FTV5m81J"
      }
    },
    {
      "cell_type": "code",
      "source": [
        "from sklearn.metrics import mean_absolute_error\n",
        "with torch.no_grad():\n",
        "    t_test = torch.tensor(t_data, dtype=torch.float32)\n",
        "    pred = model(t_test)\n",
        "    x1_pred, _, x2_pred, _ = torch.split(pred, 2, dim=1)\n",
        "    mae_x1 = mean_absolute_error(x1_true, x1_pred.numpy())\n",
        "    mae_x2 = mean_absolute_error(x2_true, x2_pred.numpy())\n",
        "    print(f\"MAE x1: {mae_x1:.5f}, MAE x2: {mae_x2:.5f}\")\n"
      ],
      "metadata": {
        "trusted": true,
        "execution": {
          "iopub.status.busy": "2025-05-14T07:42:53.348449Z",
          "iopub.execute_input": "2025-05-14T07:42:53.348760Z",
          "iopub.status.idle": "2025-05-14T07:42:53.734063Z",
          "shell.execute_reply.started": "2025-05-14T07:42:53.348737Z",
          "shell.execute_reply": "2025-05-14T07:42:53.733166Z"
        },
        "id": "a1iDUg6C0nRb",
        "outputId": "33862766-42c7-421d-ba07-c9f19cd83277",
        "colab": {
          "base_uri": "https://localhost:8080/"
        }
      },
      "outputs": [
        {
          "output_type": "stream",
          "name": "stdout",
          "text": [
            "MAE x1: 0.02716, MAE x2: 0.03334\n"
          ]
        }
      ],
      "execution_count": 247
    },
    {
      "cell_type": "markdown",
      "source": [
        "### Final model performance"
      ],
      "metadata": {
        "id": "0s29X1EzmUJS"
      }
    },
    {
      "cell_type": "code",
      "source": [
        "# Example masses and initial conditions\n",
        "# m1, m2 = 1.0, 1.0\n",
        "# x1_0 = np.array([-0.5, 0.0])\n",
        "# v1_0 = np.array([0.0, 1.0])\n",
        "# x2_0 = np.array([0.5, 0.0])\n",
        "# v2_0 = np.array([0.0, -1.0])\n",
        "#  Generate test data\n",
        "# t_test, y_test = generate_dataset(m1, m2, x1_0, v1_0, x2_0, v2_0, t_max=10.0, num_points=500)\n",
        "#  Convert to PyTorch tensors\n",
        "# t_test_tensor = torch.tensor(t_test, dtype=torch.float32)\n",
        "# y_test_tensor = torch.tensor(y_test, dtype=torch.float32)\n"
      ],
      "metadata": {
        "id": "CC8XrCZ09eO7"
      },
      "execution_count": 248,
      "outputs": []
    },
    {
      "cell_type": "markdown",
      "source": [
        "####Plotting the Contrast"
      ],
      "metadata": {
        "id": "Op1na68IdqL2"
      }
    },
    {
      "cell_type": "code",
      "source": [
        "import matplotlib.pyplot as plt\n",
        "\n",
        "def plot_orbits(x1_pred, x2_pred, x1_true, x2_true, title=\"True vs Predicted Orbits\"):\n",
        "    plt.figure(figsize=(6, 6))\n",
        "    plt.plot(x1_true[:, 0], x1_true[:, 1], 'b-', label='x1 True')\n",
        "    plt.plot(x2_true[:, 0], x2_true[:, 1], 'r-', label='x2 True')\n",
        "    plt.plot(x1_pred[:, 0], x1_pred[:, 1], 'b--', label='x1 Predicted')\n",
        "    plt.plot(x2_pred[:, 0], x2_pred[:, 1], 'r--', label='x2 Predicted')\n",
        "    plt.scatter([x1_true[0, 0]], [x1_true[0, 1]], c='blue', marker='o')\n",
        "    plt.scatter([x2_true[0, 0]], [x2_true[0, 1]], c='red', marker='o')\n",
        "    plt.xlabel('x')\n",
        "    plt.ylabel('y')\n",
        "    plt.title(title)\n",
        "    plt.axis('equal')\n",
        "    plt.grid(True)\n",
        "    plt.legend()\n",
        "    plt.show()\n",
        "# t_test_tensor: shape (N, 1)\n",
        "# y_test_tensor: shape (N, 8)\n",
        "\n",
        "\n",
        "# model.eval()\n",
        "# with torch.no_grad():\n",
        "#     y_pred = model(t_test_tensor)\n",
        "#     x1_pred, _, x2_pred, _ = torch.split(y_pred, 2, dim=1)\n",
        "#     x1_true = y_test_tensor[:, 0:2]\n",
        "#     x2_true = y_test_tensor[:, 4:6]\n",
        "\n",
        "#plot_orbits(x1_pred.cpu().numpy(), x2_pred.cpu().numpy(),\n",
        "            #x1_true.cpu().numpy(), x2_true.cpu().numpy())\n",
        "\n",
        "plot_orbits(x1_pred, x2_pred,\n",
        "            x1_true, x2_true)\n"
      ],
      "metadata": {
        "id": "QgCHpdXj7y07",
        "outputId": "3dcce6a5-0984-4dfb-8cb3-716ee26d515d",
        "colab": {
          "base_uri": "https://localhost:8080/",
          "height": 564
        }
      },
      "execution_count": 249,
      "outputs": [
        {
          "output_type": "display_data",
          "data": {
            "text/plain": [
              "<Figure size 600x600 with 1 Axes>"
            ],
            "image/png": "[encoded data removed]"
          },
          "metadata": {}
        }
      ]
    },
    {
      "cell_type": "code",
      "source": [
        "print(f\"MAE x1: {mae_x1:.5f}\")\n",
        "print(f\"MAE x2: {mae_x2:.5f}\")\n"
      ],
      "metadata": {
        "trusted": true,
        "execution": {
          "iopub.status.busy": "2025-05-14T07:43:05.030016Z",
          "iopub.execute_input": "2025-05-14T07:43:05.030511Z",
          "iopub.status.idle": "2025-05-14T07:43:05.035484Z",
          "shell.execute_reply.started": "2025-05-14T07:43:05.030487Z",
          "shell.execute_reply": "2025-05-14T07:43:05.034358Z"
        },
        "id": "c0WU5wm20nRb",
        "outputId": "2f2e5f7e-ddf2-43af-8404-748df81aec97",
        "colab": {
          "base_uri": "https://localhost:8080/"
        }
      },
      "outputs": [
        {
          "output_type": "stream",
          "name": "stdout",
          "text": [
            "MAE x1: 0.02716\n",
            "MAE x2: 0.03334\n"
          ]
        }
      ],
      "execution_count": 250
    }
  ]
}