{
  "metadata": {
    "kernelspec": {
      "language": "python",
      "display_name": "Python 3",
      "name": "python3"
    },
    "language_info": {
      "name": "python",
      "version": "3.11.11",
      "mimetype": "text/x-python",
      "codemirror_mode": {
        "name": "ipython",
        "version": 3
      },
      "pygments_lexer": "ipython3",
      "nbconvert_exporter": "python",
      "file_extension": ".py"
    },
    "kaggle": {
      "accelerator": "none",
      "dataSources": [],
      "dockerImageVersionId": 31040,
      "isInternetEnabled": true,
      "language": "python",
      "sourceType": "notebook",
      "isGpuEnabled": false
    },
    "colab": {
      "provenance": []
    }
  },
  "nbformat_minor": 0,
  "nbformat": 4,
  "cells": [
    {
      "cell_type": "markdown",
      "source": [
        "### installing dependencies"
      ],
      "metadata": {
        "id": "n9T5Zn7pjLVT"
      }
    },
    {
      "cell_type": "code",
      "source": [
        "import numpy as np # linear algebra\n",
        "import pandas as pd # data processing, CSV file I/O (e.g. pd.read_csv)\n",
        "import torch #working with tensors"
      ],
      "metadata": {
        "_uuid": "8f2839f25d086af736a60e9eeb907d3b93b6e0e5",
        "_cell_guid": "b1076dfc-b9ad-4769-8c92-a6c4dae69d19",
        "trusted": true,
        "execution": {
          "iopub.status.busy": "2025-05-14T07:41:00.953905Z",
          "iopub.execute_input": "2025-05-14T07:41:00.954244Z",
          "iopub.status.idle": "2025-05-14T07:41:00.960145Z"
        },
        "id": "JacEP5Aa0nRZ"
      },
      "outputs": [],
      "execution_count": 273
    },
    {
      "cell_type": "code",
      "source": [
        "from sklearn.model_selection import train_test_split"
      ],
      "metadata": {
        "id": "x0tNdRdRbhlo"
      },
      "execution_count": 274,
      "outputs": []
    },
    {
      "cell_type": "markdown",
      "source": [
        "###user inputs"
      ],
      "metadata": {
        "id": "GQxmwUFgicjL"
      }
    },
    {
      "cell_type": "code",
      "source": [
        "#considering them as simple numeric values\n",
        "G = 1.0\n",
        "m1 = 4.0\n",
        "m2 = 1.0\n",
        "#I decide to give the masses equally opposite speeds and keeping them at symmetric positions w.r.t. x=0\n",
        "#Initial positions vectors\n",
        "x1_0 = torch.tensor([1.0, 0.0], dtype=torch.float32)\n",
        "x2_0 = torch.tensor([-1.0, 0.0], dtype=torch.float32)\n",
        "\n",
        "#Initial velocities vectors\n",
        "v1_0 = torch.tensor([0.5, 0.5], dtype=torch.float32)\n",
        "v2_0 = torch.tensor([-0.5, -0.5], dtype=torch.float32)\n",
        "\n",
        "# Prediction time\n",
        "T = 5.0  #in seconds\n"
      ],
      "metadata": {
        "trusted": true,
        "execution": {
          "iopub.status.busy": "2025-05-14T07:41:00.961754Z",
          "iopub.execute_input": "2025-05-14T07:41:00.962470Z",
          "iopub.status.idle": "2025-05-14T07:41:00.984088Z",
          "shell.execute_reply.started": "2025-05-14T07:41:00.962444Z",
          "shell.execute_reply": "2025-05-14T07:41:00.983302Z"
        },
        "id": "kUO8mPzP0nRa"
      },
      "outputs": [],
      "execution_count": 275
    },
    {
      "cell_type": "markdown",
      "source": [
        "### Data generation"
      ],
      "metadata": {
        "id": "bty2Rr2zl7gy"
      }
    },
    {
      "cell_type": "code",
      "source": [
        "#ground truth data for two-body ODE generated with physics solver_ivp\n",
        "from scipy.integrate import solve_ivp\n",
        "\n",
        "def newtonian_gravity_eqs(t, y, m1, m2):\n",
        "    x1 = y[:2]\n",
        "    v1 = y[2:4]\n",
        "    x2 = y[4:6]\n",
        "    v2 = y[6:8]\n",
        "    r12 = np.linalg.norm(x2 - x1)\n",
        "    a1 = G * m2 * (x2 - x1) / r12**3\n",
        "    a2 = G * m1 * (x1 - x2) / r12**3\n",
        "    return np.concatenate([v1, a1, v2, a2])\n",
        "y0 = np.concatenate([x1_0, v1_0, x2_0, v2_0])\n",
        "t_span = (0, T)\n",
        "t_eval = np.linspace(0, T, 100)\n",
        "sol = solve_ivp(newtonian_gravity_eqs, t_span, y0, t_eval=t_eval, args=(m1, m2))\n",
        "# Ground truth trajectories\n",
        "x1_true = sol.y[:2].T  # shape: (timesteps, 2)\n",
        "x2_true = sol.y[4:6].T\n",
        "t_data = sol.t.reshape(-1, 1)\n"
      ],
      "metadata": {
        "trusted": true,
        "execution": {
          "iopub.status.busy": "2025-05-14T07:41:00.984982Z",
          "iopub.execute_input": "2025-05-14T07:41:00.985303Z",
          "iopub.status.idle": "2025-05-14T07:41:01.002519Z",
          "shell.execute_reply.started": "2025-05-14T07:41:00.985260Z",
          "shell.execute_reply": "2025-05-14T07:41:01.001590Z"
        },
        "id": "kWdB2j160nRa"
      },
      "outputs": [],
      "execution_count": 276
    },
    {
      "cell_type": "code",
      "source": [
        "# def generate_dataset(m1, m2, x1_0, v1_0, x2_0, v2_0, t_max=10.0, num_points=500):\n",
        "#     y0 = np.concatenate([x1_0, v1_0, x2_0, v2_0])\n",
        "#     t_eval = np.linspace(0, t_max, num_points)\n",
        "#     sol = solve_ivp(fun=lambda t, y: newtonian_gravity_eqs(t, y, m1, m2),\n",
        "#                     t_span=(0, t_max),\n",
        "#                     y0=y0,\n",
        "#                     t_eval=t_eval,\n",
        "#                     method='RK45')\n",
        "\n",
        "#     t_data = sol.t.reshape(-1, 1)  # shape (N, 1)\n",
        "#     y_data = sol.y.T               # shape (N, 8)\n",
        "#     return t_data, y_data\n"
      ],
      "metadata": {
        "id": "pRjR8urC9bxi"
      },
      "execution_count": 277,
      "outputs": []
    },
    {
      "cell_type": "markdown",
      "source": [
        "### Model Definition"
      ],
      "metadata": {
        "id": "gqS4XaM3nzmh"
      }
    },
    {
      "cell_type": "code",
      "source": [
        "#train the neural network as per universal approximation theorem\n",
        "import torch.nn as nn\n",
        "class PINN(nn.Module):\n",
        "    def __init__(self):\n",
        "        super().__init__()\n",
        "        self.net = nn.Sequential(\n",
        "            nn.Linear(1, 128),\n",
        "            nn.Tanh(),\n",
        "            nn.Linear(128, 128),\n",
        "            nn.Tanh(),\n",
        "            nn.Linear(128, 8)  # Output: x1, v1, x2, v2 (each 2D)\n",
        "        )\n",
        "\n",
        "    def forward(self, t):\n",
        "      return self.net(t)\n",
        "model = PINN()\n"
      ],
      "metadata": {
        "trusted": true,
        "execution": {
          "iopub.status.busy": "2025-05-14T07:41:01.003428Z",
          "iopub.execute_input": "2025-05-14T07:41:01.003720Z",
          "iopub.status.idle": "2025-05-14T07:41:01.011172Z",
          "shell.execute_reply.started": "2025-05-14T07:41:01.003692Z",
          "shell.execute_reply": "2025-05-14T07:41:01.010369Z"
        },
        "id": "xT5iETzQ0nRa"
      },
      "outputs": [],
      "execution_count": 278
    },
    {
      "cell_type": "code",
      "source": [
        "# hyperparameter-tuning\n",
        "l_ODEloss=0.2\n",
        "l_dataloss=1.0"
      ],
      "metadata": {
        "id": "vPLbG5_9TBiO"
      },
      "execution_count": 279,
      "outputs": []
    },
    {
      "cell_type": "code",
      "source": [
        "t_train_np,t_test_np,x1_train_np,x1_test_np,x2_train_np,x2_test_np=train_test_split(t_data,x1_true,x2_true,test_size=0.2,random_state=42)"
      ],
      "metadata": {
        "id": "TtNBbcUGbgej"
      },
      "execution_count": 280,
      "outputs": []
    },
    {
      "cell_type": "code",
      "source": [
        "#optimize the parameters with learning rate =o.oo1\n",
        "#using Adam Optimizer\n",
        "t_train = torch.tensor(t_train_np, dtype=torch.float32, requires_grad=True)\n",
        "x1_train = torch.tensor(x1_train_np, dtype=torch.float32)\n",
        "x2_train = torch.tensor(x2_train_np, dtype=torch.float32)\n",
        "\n",
        "t_test = torch.tensor(t_test_np, dtype=torch.float32, requires_grad=True)\n",
        "x1_test = torch.tensor(x1_test_np, dtype=torch.float32)\n",
        "x2_test = torch.tensor(x2_test_np, dtype=torch.float32)\n",
        "\n",
        "\n",
        "optimizer = torch.optim.Adam(model.parameters(), lr=0.001)\n",
        "def ode_residue(model, t, m1, m2):\n",
        "    pred = model(t)\n",
        "    x1, v1, x2, v2 = torch.split(pred, 2, dim=1)\n",
        "#First derivatives (velocities)= dx/dt = v, so we get dV/dt = a\n",
        "    a1 = torch.zeros_like(v1)\n",
        "    a2 = torch.zeros_like(v2)\n",
        "    for i in range(2):  # loop over x and y components\n",
        "        grad_v1_i = torch.autograd.grad(v1[:, i], t, grad_outputs=torch.ones_like(v1[:, i]), create_graph=True)[0]\n",
        "        grad_v2_i = torch.autograd.grad(v2[:, i], t, grad_outputs=torch.ones_like(v2[:, i]), create_graph=True)[0]\n",
        "        a1[:, i] = grad_v1_i.squeeze()\n",
        "        a2[:, i] = grad_v2_i.squeeze()\n",
        "\n",
        "    #Compute true acceleration from Newton's law\n",
        "    r = x2 - x1\n",
        "    r_normal = torch.norm(r, dim=1, keepdim=True) + 1e-6\n",
        "    a1_newtonian_model = G * m2 * r / r_normal**3\n",
        "    a2_newtonian_model = -G * m1 * r / r_normal**3\n",
        "\n",
        "    #Mean squared ODE residual\n",
        "    return ((a1 - a1_newtonian_model)**2).mean() + ((a2 - a2_newtonian_model)**2).mean()\n",
        "\n",
        "\n",
        "#loss function penalises the model for both data loss and ODE loss\n",
        "#model performace depends on the weights given to them relative to each other\n",
        "def total_loss(model, t, x1_true, x2_true):\n",
        "    pred = model(t)\n",
        "    x1_pred, _, x2_pred, _ = torch.split(pred, 2, dim=1)\n",
        "    data_loss = nn.MSELoss()(x1_pred, x1_true) + nn.MSELoss()(x2_pred, x2_true)\n",
        "    ode_loss = ode_residue(model, t, m1, m2)\n",
        "    return l_dataloss*data_loss + l_ODEloss*ode_loss, data_loss.item(), ode_loss.item()\n",
        "for epoch in range(4000):\n",
        "    optimizer.zero_grad()\n",
        "    loss, data_loss, ode_loss = total_loss(model, t_train, x1_train, x2_train)\n",
        "    #back-propagation for optimizing the parameters\n",
        "    loss.backward()\n",
        "    optimizer.step()\n",
        "    if epoch % 200 == 0:\n",
        "        print(f\"Epoch {epoch}, Loss: {loss.item():.5f}, Data Loss: {data_loss:.5f}, ODE Loss: {ode_loss:.5f}\")\n"
      ],
      "metadata": {
        "trusted": true,
        "execution": {
          "iopub.status.busy": "2025-05-14T07:42:20.065298Z",
          "iopub.execute_input": "2025-05-14T07:42:20.065628Z",
          "iopub.status.idle": "2025-05-14T07:42:29.378278Z",
          "shell.execute_reply.started": "2025-05-14T07:42:20.065604Z",
          "shell.execute_reply": "2025-05-14T07:42:29.377497Z"
        },
        "id": "PgBUvKLx0nRa",
        "outputId": "bc531681-2727-4f9b-f6b0-e09daa12e323",
        "colab": {
          "base_uri": "https://localhost:8080/"
        }
      },
      "outputs": [
        {
          "output_type": "stream",
          "name": "stdout",
          "text": [
            "Epoch 0, Loss: 1030.70972, Data Loss: 3.28897, ODE Loss: 5137.10352\n",
            "Epoch 200, Loss: 4.58450, Data Loss: 4.50579, ODE Loss: 0.39354\n",
            "Epoch 400, Loss: 3.01329, Data Loss: 2.96740, ODE Loss: 0.22946\n",
            "Epoch 600, Loss: 1.93181, Data Loss: 1.90649, ODE Loss: 0.12660\n",
            "Epoch 800, Loss: 1.37363, Data Loss: 1.34123, ODE Loss: 0.16202\n",
            "Epoch 1000, Loss: 1.03460, Data Loss: 1.01961, ODE Loss: 0.07495\n",
            "Epoch 1200, Loss: 0.81405, Data Loss: 0.81050, ODE Loss: 0.01778\n",
            "Epoch 1400, Loss: 0.67508, Data Loss: 0.67097, ODE Loss: 0.02055\n",
            "Epoch 1600, Loss: 0.57067, Data Loss: 0.56544, ODE Loss: 0.02617\n",
            "Epoch 1800, Loss: 0.48770, Data Loss: 0.48186, ODE Loss: 0.02922\n",
            "Epoch 2000, Loss: 0.42273, Data Loss: 0.41629, ODE Loss: 0.03220\n",
            "Epoch 2200, Loss: 0.37112, Data Loss: 0.36412, ODE Loss: 0.03499\n",
            "Epoch 2400, Loss: 0.32753, Data Loss: 0.31985, ODE Loss: 0.03839\n",
            "Epoch 2600, Loss: 0.28475, Data Loss: 0.27482, ODE Loss: 0.04965\n",
            "Epoch 2800, Loss: 0.24276, Data Loss: 0.22862, ODE Loss: 0.07069\n",
            "Epoch 3000, Loss: 0.21580, Data Loss: 0.20348, ODE Loss: 0.06159\n",
            "Epoch 3200, Loss: 0.19492, Data Loss: 0.18495, ODE Loss: 0.04984\n",
            "Epoch 3400, Loss: 0.17598, Data Loss: 0.16777, ODE Loss: 0.04101\n",
            "Epoch 3600, Loss: 0.15811, Data Loss: 0.15114, ODE Loss: 0.03485\n",
            "Epoch 3800, Loss: 0.14118, Data Loss: 0.13504, ODE Loss: 0.03069\n"
          ]
        }
      ],
      "execution_count": 281
    },
    {
      "cell_type": "markdown",
      "source": [
        "####Unseen Test Dataset"
      ],
      "metadata": {
        "id": "Cw9wyfkpu-A4"
      }
    },
    {
      "cell_type": "code",
      "source": [
        "# G = 1.0\n",
        "# m1_test = 1.2\n",
        "# m2_test = 0.9\n",
        "# x1_0_test = np.array([-1.2, 0.2])\n",
        "# x2_0_test = np.array([1.3, -0.1])\n",
        "# v1_0_test = np.array([0.0, 0.6])\n",
        "# v2_0_test = np.array([0.0, -0.4])\n",
        "# T_test = 10.0\n",
        "# num_points_test = 500\n",
        "# t_eval_test = np.linspace(0, T_test, num_points_test)\n",
        "# def newtonian_gravity_eqs(t, y, m1, m2):\n",
        "#     x1 = y[:2]\n",
        "#     v1 = y[2:4]\n",
        "#     x2 = y[4:6]\n",
        "#     v2 = y[6:8]\n",
        "#     r12 = np.linalg.norm(x2 - x1)\n",
        "#     a1 = G * m2 * (x2 - x1) / r12**3\n",
        "#     a2 = G * m1 * (x1 - x2) / r12**3\n",
        "#     return np.concatenate([v1, a1, v2, a2])\n",
        "# y0_test = np.concatenate([x1_0_test, v1_0_test, x2_0_test, v2_0_test])\n",
        "# sol_test = solve_ivp(\n",
        "#     newtonian_gravity_eqs,\n",
        "#     t_span=(0, T_test),\n",
        "#     y0=y0_test,\n",
        "#     t_eval=t_eval_test,\n",
        "#     args=(m1_test, m2_test)\n",
        "# )\n",
        "\n",
        "# t_test = sol_test.t.reshape(-1, 1)\n",
        "# y_test = sol_test.y.T\n",
        "# x1_test = y_test[:, :2]\n",
        "# x2_test = y_test[:, 4:6]"
      ],
      "metadata": {
        "id": "NGaZ-iRSvEB6"
      },
      "execution_count": 282,
      "outputs": []
    },
    {
      "cell_type": "markdown",
      "source": [
        "### Evaluation criteria"
      ],
      "metadata": {
        "id": "aRj3FTV5m81J"
      }
    },
    {
      "cell_type": "code",
      "source": [
        "from sklearn.metrics import mean_absolute_error\n",
        "with torch.no_grad():\n",
        "    t_test = torch.tensor(t_data, dtype=torch.float32)\n",
        "    pred = model(t_test)\n",
        "    x1_pred, _, x2_pred, _ = torch.split(pred, 2, dim=1)\n",
        "    mae_x1 = mean_absolute_error(x1_true, x1_pred.numpy())\n",
        "    mae_x2 = mean_absolute_error(x2_true, x2_pred.numpy())\n",
        "    print(f\"MAE x1: {mae_x1:.5f}, MAE x2: {mae_x2:.5f}\")\n"
      ],
      "metadata": {
        "trusted": true,
        "execution": {
          "iopub.status.busy": "2025-05-14T07:42:53.348449Z",
          "iopub.execute_input": "2025-05-14T07:42:53.348760Z",
          "iopub.status.idle": "2025-05-14T07:42:53.734063Z",
          "shell.execute_reply.started": "2025-05-14T07:42:53.348737Z",
          "shell.execute_reply": "2025-05-14T07:42:53.733166Z"
        },
        "id": "a1iDUg6C0nRb",
        "outputId": "2a3220c4-9a0e-4cf0-a7fc-313a91ceeb21",
        "colab": {
          "base_uri": "https://localhost:8080/"
        }
      },
      "outputs": [
        {
          "output_type": "stream",
          "name": "stdout",
          "text": [
            "MAE x1: 0.14784, MAE x2: 0.19092\n"
          ]
        }
      ],
      "execution_count": 283
    },
    {
      "cell_type": "markdown",
      "source": [
        "### Final model performance"
      ],
      "metadata": {
        "id": "0s29X1EzmUJS"
      }
    },
    {
      "cell_type": "code",
      "source": [
        "# Example masses and initial conditions\n",
        "# m1, m2 = 1.0, 1.0\n",
        "# x1_0 = np.array([-0.5, 0.0])\n",
        "# v1_0 = np.array([0.0, 1.0])\n",
        "# x2_0 = np.array([0.5, 0.0])\n",
        "# v2_0 = np.array([0.0, -1.0])\n",
        "#  Generate test data\n",
        "# t_test, y_test = generate_dataset(m1, m2, x1_0, v1_0, x2_0, v2_0, t_max=10.0, num_points=500)\n",
        "#  Convert to PyTorch tensors\n",
        "# t_test_tensor = torch.tensor(t_test, dtype=torch.float32)\n",
        "# y_test_tensor = torch.tensor(y_test, dtype=torch.float32)\n"
      ],
      "metadata": {
        "id": "CC8XrCZ09eO7"
      },
      "execution_count": 284,
      "outputs": []
    },
    {
      "cell_type": "markdown",
      "source": [
        "####Plotting the Contrast"
      ],
      "metadata": {
        "id": "Op1na68IdqL2"
      }
    },
    {
      "cell_type": "code",
      "source": [
        "import matplotlib.pyplot as plt\n",
        "\n",
        "def plot_orbits(x1_pred, x2_pred, x1_true, x2_true, title=\"True vs Predicted Orbits\"):\n",
        "    plt.figure(figsize=(6, 6))\n",
        "    plt.plot(x1_true[:, 0], x1_true[:, 1], 'b-', label='x1 True')\n",
        "    plt.plot(x2_true[:, 0], x2_true[:, 1], 'r-', label='x2 True')\n",
        "    plt.plot(x1_pred[:, 0], x1_pred[:, 1], 'b--', label='x1 Predicted')\n",
        "    plt.plot(x2_pred[:, 0], x2_pred[:, 1], 'r--', label='x2 Predicted')\n",
        "    plt.scatter([x1_true[0, 0]], [x1_true[0, 1]], c='blue', marker='o')\n",
        "    plt.scatter([x2_true[0, 0]], [x2_true[0, 1]], c='red', marker='o')\n",
        "    plt.xlabel('x')\n",
        "    plt.ylabel('y')\n",
        "    plt.title(title)\n",
        "    plt.axis('equal')\n",
        "    plt.grid(True)\n",
        "    plt.legend()\n",
        "    plt.show()\n",
        "# t_test_tensor: shape (N, 1)\n",
        "# y_test_tensor: shape (N, 8)\n",
        "\n",
        "\n",
        "# model.eval()\n",
        "# with torch.no_grad():\n",
        "#     y_pred = model(t_test_tensor)\n",
        "#     x1_pred, _, x2_pred, _ = torch.split(y_pred, 2, dim=1)\n",
        "#     x1_true = y_test_tensor[:, 0:2]\n",
        "#     x2_true = y_test_tensor[:, 4:6]\n",
        "\n",
        "#plot_orbits(x1_pred.cpu().numpy(), x2_pred.cpu().numpy(),\n",
        "            #x1_true.cpu().numpy(), x2_true.cpu().numpy())\n",
        "\n",
        "plot_orbits(x1_pred, x2_pred,\n",
        "            x1_true, x2_true)\n"
      ],
      "metadata": {
        "id": "QgCHpdXj7y07",
        "outputId": "4b05fd49-8f09-4f43-f046-7f51b0b9839d",
        "colab": {
          "base_uri": "https://localhost:8080/",
          "height": 564
        }
      },
      "execution_count": 285,
      "outputs": [
        {
          "output_type": "display_data",
          "data": {
            "text/plain": [
              "<Figure size 600x600 with 1 Axes>"
            ],
            "image/png": "[encoded data removed]"
          },
          "metadata": {}
        }
      ]
    },
    {
      "cell_type": "code",
      "source": [
        "print(f\"MAE x1: {mae_x1:.5f}\")\n",
        "print(f\"MAE x2: {mae_x2:.5f}\")\n"
      ],
      "metadata": {
        "trusted": true,
        "execution": {
          "iopub.status.busy": "2025-05-14T07:43:05.030016Z",
          "iopub.execute_input": "2025-05-14T07:43:05.030511Z",
          "iopub.status.idle": "2025-05-14T07:43:05.035484Z",
          "shell.execute_reply.started": "2025-05-14T07:43:05.030487Z",
          "shell.execute_reply": "2025-05-14T07:43:05.034358Z"
        },
        "id": "c0WU5wm20nRb",
        "outputId": "dfb3694a-a933-49bd-ebb2-02a53d92c438",
        "colab": {
          "base_uri": "https://localhost:8080/"
        }
      },
      "outputs": [
        {
          "output_type": "stream",
          "name": "stdout",
          "text": [
            "MAE x1: 0.14784\n",
            "MAE x2: 0.19092\n"
          ]
        }
      ],
      "execution_count": 286
    },
    {
      "cell_type": "code",
      "source": [
        "from sklearn.metrics import mean_absolute_error\n",
        "with torch.no_grad():\n",
        "    t_test = torch.tensor(t_test_np, dtype=torch.float32,requires_grad=True)\n",
        "    pred = model(t_test)\n",
        "    x1_pred, _, x2_pred, _ = torch.split(pred, 2, dim=1)\n",
        "    mae_x1 = mean_absolute_error(x1_test, x1_pred.numpy())\n",
        "    mae_x2 = mean_absolute_error(x2_test, x2_pred.numpy())\n",
        "    print(f\"MAE x1: {mae_x1:.5f}, MAE x2: {mae_x2:.5f}\")"
      ],
      "metadata": {
        "id": "DGdy6sGAmBnz",
        "outputId": "f5d0385a-9316-44c0-ba67-47ec04f28ba0",
        "colab": {
          "base_uri": "https://localhost:8080/"
        }
      },
      "execution_count": 287,
      "outputs": [
        {
          "output_type": "stream",
          "name": "stdout",
          "text": [
            "MAE x1: 0.14802, MAE x2: 0.13573\n"
          ]
        }
      ]
    }
  ]
}