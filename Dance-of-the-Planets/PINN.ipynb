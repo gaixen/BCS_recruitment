{
  "nbformat": 4,
  "nbformat_minor": 0,
  "metadata": {
    "colab": {
      "provenance": [],
      "gpuType": "T4"
    },
    "kernelspec": {
      "name": "python3",
      "display_name": "Python 3"
    },
    "language_info": {
      "name": "python"
    },
    "accelerator": "GPU"
  },
  "cells": [
    {
      "cell_type": "code",
      "execution_count": 20,
      "metadata": {
        "colab": {
          "base_uri": "https://localhost:8080/"
        },
        "collapsed": true,
        "id": "-aitOKhzVLOG",
        "outputId": "d780f007-9fe0-4642-f54a-251b2ddf00e6"
      },
      "outputs": [
        {
          "output_type": "stream",
          "name": "stdout",
          "text": [
            "Requirement already satisfied: torch in /usr/local/lib/python3.11/dist-packages (2.6.0+cu124)\n",
            "Requirement already satisfied: torchvision in /usr/local/lib/python3.11/dist-packages (0.21.0+cu124)\n",
            "Requirement already satisfied: torchaudio in /usr/local/lib/python3.11/dist-packages (2.6.0+cu124)\n",
            "Requirement already satisfied: filelock in /usr/local/lib/python3.11/dist-packages (from torch) (3.18.0)\n",
            "Requirement already satisfied: typing-extensions>=4.10.0 in /usr/local/lib/python3.11/dist-packages (from torch) (4.13.2)\n",
            "Requirement already satisfied: networkx in /usr/local/lib/python3.11/dist-packages (from torch) (3.4.2)\n",
            "Requirement already satisfied: jinja2 in /usr/local/lib/python3.11/dist-packages (from torch) (3.1.6)\n",
            "Requirement already satisfied: fsspec in /usr/local/lib/python3.11/dist-packages (from torch) (2025.3.2)\n",
            "Requirement already satisfied: nvidia-cuda-nvrtc-cu12==12.4.127 in /usr/local/lib/python3.11/dist-packages (from torch) (12.4.127)\n",
            "Requirement already satisfied: nvidia-cuda-runtime-cu12==12.4.127 in /usr/local/lib/python3.11/dist-packages (from torch) (12.4.127)\n",
            "Requirement already satisfied: nvidia-cuda-cupti-cu12==12.4.127 in /usr/local/lib/python3.11/dist-packages (from torch) (12.4.127)\n",
            "Requirement already satisfied: nvidia-cudnn-cu12==9.1.0.70 in /usr/local/lib/python3.11/dist-packages (from torch) (9.1.0.70)\n",
            "Requirement already satisfied: nvidia-cublas-cu12==12.4.5.8 in /usr/local/lib/python3.11/dist-packages (from torch) (12.4.5.8)\n",
            "Requirement already satisfied: nvidia-cufft-cu12==11.2.1.3 in /usr/local/lib/python3.11/dist-packages (from torch) (11.2.1.3)\n",
            "Requirement already satisfied: nvidia-curand-cu12==10.3.5.147 in /usr/local/lib/python3.11/dist-packages (from torch) (10.3.5.147)\n",
            "Requirement already satisfied: nvidia-cusolver-cu12==11.6.1.9 in /usr/local/lib/python3.11/dist-packages (from torch) (11.6.1.9)\n",
            "Requirement already satisfied: nvidia-cusparse-cu12==12.3.1.170 in /usr/local/lib/python3.11/dist-packages (from torch) (12.3.1.170)\n",
            "Requirement already satisfied: nvidia-cusparselt-cu12==0.6.2 in /usr/local/lib/python3.11/dist-packages (from torch) (0.6.2)\n",
            "Requirement already satisfied: nvidia-nccl-cu12==2.21.5 in /usr/local/lib/python3.11/dist-packages (from torch) (2.21.5)\n",
            "Requirement already satisfied: nvidia-nvtx-cu12==12.4.127 in /usr/local/lib/python3.11/dist-packages (from torch) (12.4.127)\n",
            "Requirement already satisfied: nvidia-nvjitlink-cu12==12.4.127 in /usr/local/lib/python3.11/dist-packages (from torch) (12.4.127)\n",
            "Requirement already satisfied: triton==3.2.0 in /usr/local/lib/python3.11/dist-packages (from torch) (3.2.0)\n",
            "Requirement already satisfied: sympy==1.13.1 in /usr/local/lib/python3.11/dist-packages (from torch) (1.13.1)\n",
            "Requirement already satisfied: mpmath<1.4,>=1.1.0 in /usr/local/lib/python3.11/dist-packages (from sympy==1.13.1->torch) (1.3.0)\n",
            "Requirement already satisfied: numpy in /usr/local/lib/python3.11/dist-packages (from torchvision) (2.0.2)\n",
            "Requirement already satisfied: pillow!=8.3.*,>=5.3.0 in /usr/local/lib/python3.11/dist-packages (from torchvision) (11.2.1)\n",
            "Requirement already satisfied: MarkupSafe>=2.0 in /usr/local/lib/python3.11/dist-packages (from jinja2->torch) (3.0.2)\n"
          ]
        }
      ],
      "source": [
        "pip install torch torchvision torchaudio\n"
      ]
    },
    {
      "cell_type": "code",
      "source": [
        "import torch\n",
        "import torch.nn as nn\n",
        "import numpy as np\n",
        "import matplotlib.pyplot as plt\n",
        "import pandas as pd"
      ],
      "metadata": {
        "id": "GJ4FPej9WqJU"
      },
      "execution_count": 21,
      "outputs": []
    },
    {
      "cell_type": "code",
      "source": [
        "# --------------------------\n",
        "# 1. Generate Synthetic Data\n",
        "# --------------------------\n",
        "\n",
        "# Physics parameters\n",
        "g = 9.8        # acceleration due to gravity\n",
        "h0 = 1.0       # initial height\n",
        "v0 = 10.0      # initial velocity\n",
        "\n",
        "# True (analytical) solution h(t) = h0 + v0*t - 0.5*g*t^2\n",
        "def true_solution(t):\n",
        "    return h0 + v0*t - 0.5*g*(t**2)\n",
        "\n",
        "# Generate some time points\n",
        "t_min, t_max = 0.0, 2.0\n",
        "N_data = 10\n",
        "t_data = np.linspace(t_min, t_max, N_data)\n",
        "\n",
        "# Generate synthetic \"experimental\" heights with noise\n",
        "np.random.seed(0)\n",
        "noise_level = 0.7\n",
        "h_data_exact = true_solution(t_data)\n",
        "h_data_noisy = h_data_exact + noise_level*np.random.randn(N_data)\n",
        "\n",
        "# Convert to PyTorch tensors\n",
        "t_data_tensor = torch.tensor(t_data, dtype=torch.float32).view(-1, 1)\n",
        "h_data_tensor = torch.tensor(h_data_noisy, dtype=torch.float32).view(-1, 1)"
      ],
      "metadata": {
        "id": "OByA5-bAXcgl"
      },
      "execution_count": 22,
      "outputs": []
    },
    {
      "cell_type": "code",
      "source": [
        "# --------------------------------------------------------\n",
        "# 2. Define a small feed-forward neural network for h(t)\n",
        "# --------------------------------------------------------\n",
        "class PINN(nn.Module):\n",
        "    def __init__(self, n_hidden=20):\n",
        "        super(PINN, self).__init__()\n",
        "        # A simple MLP with 2 hidden layers\n",
        "        self.net = nn.Sequential(\n",
        "            nn.Linear(1, n_hidden),\n",
        "            nn.Tanh(),\n",
        "            nn.Linear(n_hidden, n_hidden),\n",
        "            nn.Tanh(),\n",
        "            nn.Linear(n_hidden, 1)\n",
        "        )\n",
        "\n",
        "    def forward(self, t):\n",
        "        \"\"\"\n",
        "        Forward pass: input shape (batch_size, 1) -> output shape (batch_size, 1)\n",
        "        \"\"\"\n",
        "        return self.net(t)\n",
        "\n",
        "# Instantiate the model\n",
        "model = PINN(n_hidden=20)"
      ],
      "metadata": {
        "id": "sBj9MUDmXh91"
      },
      "execution_count": 23,
      "outputs": []
    },
    {
      "cell_type": "code",
      "source": [
        "# --------------------------------\n",
        "# 3. Helper for Automatic Diff\n",
        "# --------------------------------\n",
        "def derivative(y, x):\n",
        "    \"\"\"\n",
        "    Computes dy/dx using PyTorch's autograd.\n",
        "    y and x must be tensors with requires_grad=True for x.\n",
        "    \"\"\"\n",
        "    return torch.autograd.grad(\n",
        "        y, x,\n",
        "        grad_outputs=torch.ones_like(y),\n",
        "        create_graph=True\n",
        "    )[0]"
      ],
      "metadata": {
        "id": "WL8xO5NAXn7E"
      },
      "execution_count": 24,
      "outputs": []
    },
    {
      "cell_type": "code",
      "source": [
        "# ----------------------------------------\n",
        "# 4. Define the Loss Components (PINN)\n",
        "# ----------------------------------------\n",
        "\n",
        "# We have:\n",
        "#    (1) Data loss (fit noisy data)\n",
        "#    (2) ODE loss: dh/dt = v0 - g * t\n",
        "#    (3) Initial condition loss: h(0) = h0\n",
        "\n",
        "def physics_loss(model, t):\n",
        "    \"\"\"\n",
        "    Compare d(h_pred)/dt with the known expression (v0 - g t).\n",
        "    \"\"\"\n",
        "    # t must have requires_grad = True for autograd to work\n",
        "    t.requires_grad_(True)\n",
        "\n",
        "    h_pred = model(t)\n",
        "    dh_dt_pred = derivative(h_pred, t)\n",
        "\n",
        "    # For each t, physics says dh/dt = v0 - g * t\n",
        "    dh_dt_true = v0 - g * t\n",
        "\n",
        "    loss_ode = torch.mean((dh_dt_pred - dh_dt_true)**2)\n",
        "    return loss_ode\n",
        "\n",
        "def initial_condition_loss(model):\n",
        "    \"\"\"\n",
        "    Enforce h(0) = h0.\n",
        "    \"\"\"\n",
        "    # Evaluate at t=0\n",
        "    t0 = torch.zeros(1, 1, dtype=torch.float32, requires_grad=False)\n",
        "    h0_pred = model(t0)\n",
        "    return (h0_pred - h0).pow(2).mean()\n",
        "\n",
        "def data_loss(model, t_data, h_data):\n",
        "    \"\"\"\n",
        "    MSE between predicted h(t_i) and noisy measurements h_data.\n",
        "    \"\"\"\n",
        "    h_pred = model(t_data)\n",
        "    return torch.mean((h_pred - h_data)**2)"
      ],
      "metadata": {
        "id": "lDVlWU0qXr7M"
      },
      "execution_count": 25,
      "outputs": []
    },
    {
      "cell_type": "code",
      "source": [
        "# ---------------------------------------\n",
        "# 5. Training Setup\n",
        "# ---------------------------------------\n",
        "optimizer = torch.optim.Adam(model.parameters(), lr=0.01)\n",
        "\n",
        "# Hyperparameters for weighting the loss terms\n",
        "lambda_data = 1.0\n",
        "lambda_ode  = 20\n",
        "lambda_ic   = 15\n",
        "\n",
        "# For logging\n",
        "num_epochs = 4000\n",
        "print_every = 200"
      ],
      "metadata": {
        "id": "3sFVXoIOXs9b"
      },
      "execution_count": 26,
      "outputs": []
    },
    {
      "cell_type": "code",
      "source": [
        "# ---------------------------------------\n",
        "# 6. Training Loop\n",
        "# ---------------------------------------\n",
        "model.train()\n",
        "for epoch in range(num_epochs):\n",
        "    optimizer.zero_grad()\n",
        "\n",
        "    # Compute losses\n",
        "    l_data = data_loss(model, t_data_tensor, h_data_tensor)\n",
        "    l_ode  = physics_loss(model, t_data_tensor)\n",
        "    l_ic   = initial_condition_loss(model)\n",
        "\n",
        "    # Combined loss\n",
        "    loss = lambda_data * l_data + lambda_ode * l_ode + lambda_ic * l_ic\n",
        "\n",
        "    # Backprop\n",
        "    loss.backward()\n",
        "    optimizer.step()\n",
        "\n",
        "    # Print progress\n",
        "    if (epoch+1) % print_every == 0:\n",
        "        print(f\"Epoch {epoch+1}/{num_epochs}, \"\n",
        "              f\"Total Loss = {loss.item():.6f}, \"\n",
        "              f\"Data Loss = {l_data.item():.6f}, \"\n",
        "              f\"ODE Loss = {l_ode.item():.6f}, \"\n",
        "              f\"IC Loss = {l_ic.item():.6f}\")"
      ],
      "metadata": {
        "colab": {
          "base_uri": "https://localhost:8080/"
        },
        "id": "f4ATBQFIXz3D",
        "outputId": "ad81b72e-df76-419b-c476-85243dae9a9d"
      },
      "execution_count": 27,
      "outputs": [
        {
          "output_type": "stream",
          "name": "stdout",
          "text": [
            "Epoch 200/4000, Total Loss = 0.681894, Data Loss = 0.624046, ODE Loss = 0.002358, IC Loss = 0.000712\n",
            "Epoch 400/4000, Total Loss = 0.650744, Data Loss = 0.625933, ODE Loss = 0.000725, IC Loss = 0.000688\n",
            "Epoch 600/4000, Total Loss = 0.638807, Data Loss = 0.623147, ODE Loss = 0.000315, IC Loss = 0.000624\n",
            "Epoch 800/4000, Total Loss = 0.628407, Data Loss = 0.615048, ODE Loss = 0.000240, IC Loss = 0.000571\n",
            "Epoch 1000/4000, Total Loss = 0.615571, Data Loss = 0.603986, ODE Loss = 0.000201, IC Loss = 0.000504\n",
            "Epoch 1200/4000, Total Loss = 0.600561, Data Loss = 0.591100, ODE Loss = 0.000160, IC Loss = 0.000418\n",
            "Epoch 1400/4000, Total Loss = 0.584932, Data Loss = 0.577775, ODE Loss = 0.000118, IC Loss = 0.000320\n",
            "Epoch 1600/4000, Total Loss = 0.571245, Data Loss = 0.566064, ODE Loss = 0.000089, IC Loss = 0.000227\n",
            "Epoch 1800/4000, Total Loss = 0.562107, Data Loss = 0.558258, ODE Loss = 0.000077, IC Loss = 0.000154\n",
            "Epoch 2000/4000, Total Loss = 0.558418, Data Loss = 0.555309, ODE Loss = 0.000080, IC Loss = 0.000100\n",
            "Epoch 2200/4000, Total Loss = 0.556905, Data Loss = 0.554145, ODE Loss = 0.000069, IC Loss = 0.000092\n",
            "Epoch 2400/4000, Total Loss = 0.556666, Data Loss = 0.553780, ODE Loss = 0.000106, IC Loss = 0.000051\n",
            "Epoch 2600/4000, Total Loss = 0.558811, Data Loss = 0.552054, ODE Loss = 0.000215, IC Loss = 0.000164\n",
            "Epoch 2800/4000, Total Loss = 0.554326, Data Loss = 0.551400, ODE Loss = 0.000087, IC Loss = 0.000079\n",
            "Epoch 3000/4000, Total Loss = 0.553647, Data Loss = 0.550705, ODE Loss = 0.000087, IC Loss = 0.000080\n",
            "Epoch 3200/4000, Total Loss = 0.553032, Data Loss = 0.549887, ODE Loss = 0.000090, IC Loss = 0.000090\n",
            "Epoch 3400/4000, Total Loss = 0.559961, Data Loss = 0.545694, ODE Loss = 0.000567, IC Loss = 0.000195\n",
            "Epoch 3600/4000, Total Loss = 0.551523, Data Loss = 0.548251, ODE Loss = 0.000099, IC Loss = 0.000086\n",
            "Epoch 3800/4000, Total Loss = 0.550489, Data Loss = 0.547567, ODE Loss = 0.000091, IC Loss = 0.000074\n",
            "Epoch 4000/4000, Total Loss = 0.549246, Data Loss = 0.546330, ODE Loss = 0.000091, IC Loss = 0.000073\n"
          ]
        }
      ]
    },
    {
      "cell_type": "code",
      "source": [
        "# ---------------------------------------\n",
        "# 7. Evaluate the Trained Model\n",
        "# ---------------------------------------\n",
        "model.eval()\n",
        "t_plot = np.linspace(t_min, t_max, 100).reshape(-1, 1).astype(np.float32)\n",
        "t_plot_tensor = torch.tensor(t_plot, requires_grad=True)\n",
        "h_pred_plot = model(t_plot_tensor).detach().numpy()\n",
        "\n",
        "# True solution (for comparison)\n",
        "h_true_plot = true_solution(t_plot)\n",
        "\n",
        "# Plot results\n",
        "plt.figure(figsize=(8, 5))\n",
        "plt.scatter(t_data, h_data_noisy, color='red', label='Noisy Data')\n",
        "plt.plot(t_plot, h_true_plot, 'k--', label='Exact Solution')\n",
        "plt.plot(t_plot, h_pred_plot, 'b', label='PINN Prediction')\n",
        "plt.xlabel('t')\n",
        "plt.ylabel('h(t)')\n",
        "plt.legend()\n",
        "plt.title('PINN for Ball Trajectory')\n",
        "plt.grid(True)\n",
        "plt.show()"
      ],
      "metadata": {
        "colab": {
          "base_uri": "https://localhost:8080/",
          "height": 487
        },
        "id": "_95eRIB2X4Z8",
        "outputId": "39a77b76-3787-428d-832f-a8c8172fcc0e"
      },
      "execution_count": 28,
      "outputs": [
        {
          "output_type": "display_data",
          "data": {
            "text/plain": [
              "<Figure size 800x500 with 1 Axes>"
            ],
            "image/png": "[encoded data removed]"
          },
          "metadata": {}
        }
      ]
    }
  ]
}
