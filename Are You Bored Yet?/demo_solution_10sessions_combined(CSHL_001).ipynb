{
  "nbformat": 4,
  "nbformat_minor": 0,
  "metadata": {
    "colab": {
      "provenance": [],
      "collapsed_sections": [
        "MIoTxEhlpjDD",
        "yOb6yr0HpvOU",
        "RPs1tmFKaQw9",
        "QTdPPjxojie9",
        "0wNLPNFXaJBY",
        "D1i5SmG8qnb6",
        "NC-3KVELaZks"
      ],
      "include_colab_link": true
    },
    "kernelspec": {
      "name": "python3",
      "display_name": "Python 3"
    },
    "language_info": {
      "name": "python"
    }
  },
  "cells": [
    {
      "cell_type": "markdown",
      "metadata": {
        "id": "view-in-github",
        "colab_type": "text"
      },
      "source": [
        "<a href=\"https://colab.research.google.com/github/gaixen/BCS_recruitment/blob/main/Are%20You%20Bored%20Yet%3F/demo_solution_10sessions_combined(CSHL_001).ipynb\" target=\"_parent\"><img src=\"https://colab.research.google.com/assets/colab-badge.svg\" alt=\"Open In Colab\"/></a>"
      ]
    },
    {
      "cell_type": "markdown",
      "source": [
        "# Installation and configuration of dependencies"
      ],
      "metadata": {
        "id": "MIoTxEhlpjDD"
      }
    },
    {
      "cell_type": "code",
      "execution_count": 147,
      "metadata": {
        "id": "imA1rW8spZs7"
      },
      "outputs": [],
      "source": [
        "!pip install --quiet ONE-api\n",
        "!pip install --quiet ibllib"
      ]
    },
    {
      "cell_type": "code",
      "source": [
        "from one.api import ONE\n",
        "import numpy as np\n",
        "import pandas as pd\n",
        "import matplotlib.pyplot as plt\n",
        "import seaborn as sns\n",
        "ONE.setup(base_url='https://openalyx.internationalbrainlab.org', silent=True)\n",
        "one = ONE(password='international')"
      ],
      "metadata": {
        "colab": {
          "base_uri": "https://localhost:8080/"
        },
        "id": "LCnvIAO-pniQ",
        "outputId": "f0d5005a-18bc-43e2-9fde-feb9ac2a72f2"
      },
      "execution_count": 148,
      "outputs": [
        {
          "output_type": "stream",
          "name": "stdout",
          "text": [
            "Connected to https://openalyx.internationalbrainlab.org as user \"intbrainlab\"\n"
          ]
        }
      ]
    },
    {
      "cell_type": "markdown",
      "source": [
        "# Data Loading and Subject Selection"
      ],
      "metadata": {
        "id": "yOb6yr0HpvOU"
      }
    },
    {
      "cell_type": "code",
      "source": [
        "datasets = one.alyx.rest('datasets', 'list', tag='2021_Q1_IBL_et_al_Behaviour', name='_ibl_subjectTrials.table.pqt')\n",
        "subjects = np.unique([d['file_records'][0]['relative_path'].split('/')[2] for d in datasets])\n",
        "#Load in the subjectTrials table and sessionTrials table for the first subject\n",
        "subject = subjects[0]\n",
        "subject_trials = one.load_aggregate('subjects', subject, '_ibl_subjectTrials.table')\n",
        "session_trials = one.load_aggregate('subjects', subject, '_ibl_subjectSessions.table')\n",
        "#Add in lab, task_protocol, subject name information from the sessions table\n",
        "if 'task_protocol' in subject_trials:\n",
        "    subject_trials = subject_trials.drop('task_protocol', axis=1)\n",
        "subject_trials = subject_trials.set_index('session').join(session_trials.drop('date', axis=1))"
      ],
      "metadata": {
        "colab": {
          "base_uri": "https://localhost:8080/"
        },
        "id": "x6fhRCJ-pzgx",
        "outputId": "bdaba031-477d-409a-cb07-4ab1c03804e1"
      },
      "execution_count": 149,
      "outputs": [
        {
          "output_type": "stream",
          "name": "stderr",
          "text": [
            "WARNING:one.alf.cache:/root/Downloads/ONE/openalyx.internationalbrainlab.org/sessions.pqt does not appear to be a valid table. Skipping\n",
            "WARNING:one.alf.cache:/root/Downloads/ONE/openalyx.internationalbrainlab.org/datasets.pqt does not appear to be a valid table. Skipping\n"
          ]
        }
      ]
    },
    {
      "cell_type": "markdown",
      "source": [
        "The `subject_trials` table contains all the trials data for each training session collected in the subject. See [here](https://www.google.com/url?q=https%3A%2F%2Fdocs.google.com%2Fdocument%2Fd%2F1OqIqqakPakHXRAwceYLwFY9gOrm8_P62XIfCTnHwstg%2Fedit%23heading%3Dh.ls81qq9ihg4x) for more information about this dataset."
      ],
      "metadata": {
        "id": "7B8UKDu7qF8q"
      }
    },
    {
      "cell_type": "code",
      "source": [
        "# Find the number of sessions for this subject\n",
        "n_sessions = subject_trials.index.unique().size\n",
        "print(f'Subject {subject} has {n_sessions} sessions')\n",
        "# Find the number of times a task protocol was run\n",
        "n_protocols = subject_trials[~subject_trials.index.duplicated()].task_protocol.value_counts()\n",
        "print(n_protocols)"
      ],
      "metadata": {
        "colab": {
          "base_uri": "https://localhost:8080/"
        },
        "id": "nIqkJ-l9qIuW",
        "outputId": "75860158-ef88-4a8f-a171-349790b802a4"
      },
      "execution_count": 150,
      "outputs": [
        {
          "output_type": "stream",
          "name": "stdout",
          "text": [
            "Subject CSHL045 has 76 sessions\n",
            "task_protocol\n",
            "_iblrig_tasks_biasedChoiceWorld6.3.1      17\n",
            "_iblrig_tasks_trainingChoiceWorld6.1.3    14\n",
            "_iblrig_tasks_trainingChoiceWorld6.2.5    12\n",
            "_iblrig_tasks_trainingChoiceWorld6.3.1    11\n",
            "_iblrig_tasks_biasedChoiceWorld6.2.5       6\n",
            "_iblrig_tasks_ephysChoiceWorld6.2.5        3\n",
            "_iblrig_tasks_trainingChoiceWorld6.2.4     3\n",
            "_iblrig_tasks_trainingChoiceWorld6.0.6     3\n",
            "_iblrig_tasks_trainingChoiceWorld6.2.1     2\n",
            "_iblrig_tasks_ephysChoiceWorld6.4.0        2\n",
            "_iblrig_tasks_trainingChoiceWorld6.2.0     1\n",
            "_iblrig_tasks_trainingChoiceWorld6.1.1     1\n",
            "_iblrig_tasks_trainingChoiceWorld6.1.2     1\n",
            "Name: count, dtype: int64\n"
          ]
        }
      ]
    },
    {
      "cell_type": "markdown",
      "source": [
        "We can get the trials data for an individual session of choice, here a the first session using the `biasedChoiceWorld` protocol"
      ],
      "metadata": {
        "id": "Xm2fS9Vbqe7n"
      }
    },
    {
      "cell_type": "code",
      "source": [
        "# Get the trials data for a single session\n",
        "# Find a session run under biasedChoiceWorld\n",
        "sess = subject_trials[subject_trials['task_protocol'].str.contains('biasedChoiceWorld')].index.unique()[0]\n",
        "trials = subject_trials[subject_trials.index == sess]"
      ],
      "metadata": {
        "id": "T3Qdd6ygqPZd"
      },
      "execution_count": 151,
      "outputs": []
    },
    {
      "cell_type": "code",
      "source": [
        "print(session_trials.columns)"
      ],
      "metadata": {
        "colab": {
          "base_uri": "https://localhost:8080/"
        },
        "id": "90Ft6ZVXbfI1",
        "outputId": "bf682c97-555b-41a6-b199-36342623a3bb"
      },
      "execution_count": 152,
      "outputs": [
        {
          "output_type": "stream",
          "name": "stdout",
          "text": [
            "Index(['lab', 'subject', 'date', 'number', 'task_protocol', 'projects'], dtype='object')\n"
          ]
        }
      ]
    },
    {
      "cell_type": "code",
      "source": [
        "# #get all known subjects\n",
        "# subjects=one.alyx.rest('subjects','list')\n",
        "# #loop to find a subject with biasedChoiceWorld sessions\n",
        "# valid_subject = None\n",
        "# valid_eids = []\n",
        "# # subjects_df=pd.DataFrame()\n",
        "# for s in subjects:\n",
        "#     nickname = s['nickname']\n",
        "#     try:\n",
        "#         eids = one.search(subject=nickname, task_protocol='biasedChoiceWorld')\n",
        "#         if len(eids) > 0:\n",
        "#             valid_subject = nickname\n",
        "#             valid_eids = eids\n",
        "#             # subjects_df=subjects_df.append({'subject': nickname}, ignore_index=True)\n",
        "#             # subjects_df=subjects_df.append({'subject':len(eids)},ignore_index=True)\n",
        "#             print(f\"available subject:{nickname} with {len(eids)} biasedChoiceWorld session(s)\")\n",
        "#             break  # stop after finding one valid subject\n",
        "#     except:\n",
        "#         continue\n",
        "# #combining them in a table"
      ],
      "metadata": {
        "collapsed": true,
        "id": "ylYgnlXSbzCX"
      },
      "execution_count": 153,
      "outputs": []
    },
    {
      "cell_type": "code",
      "source": [
        "one = ONE()\n",
        "all_sessions = []\n",
        "subjects = one.alyx.rest('subjects', 'list')\n",
        "valid_subject = None\n",
        "valid_eids = []\n",
        "for s in subjects:\n",
        "    nickname = s['nickname']\n",
        "    try:\n",
        "        eids = one.search(subject=nickname, task_protocol='biasedChoiceWorld')\n",
        "        if len(eids) >= 10:\n",
        "            valid_subject = nickname\n",
        "            valid_eids = eids[:10]  #taking first 10 sessions only\n",
        "            print(f\"found subject: {nickname} with {len(valid_eids)} sessions.\")\n",
        "            break  #stop after finding the first subject\n",
        "    except Exception as e:\n",
        "        print(\"error\")\n",
        "        continue\n",
        "#loading trials for first 10 sessions for the chosen subject\n",
        "if valid_subject:\n",
        "    for eid in valid_eids:\n",
        "        try:\n",
        "            trials = one.load_object(eid, 'trials')\n",
        "            #filter out multi-dimensional arrays\n",
        "            flat_trials = {\n",
        "                k: v for k, v in trials.items()\n",
        "                if isinstance(v, np.ndarray) and v.ndim == 1\n",
        "            }\n",
        "            df = pd.DataFrame(flat_trials)\n",
        "            df['session_id'] = str(eid)\n",
        "            df['subject'] = valid_subject\n",
        "            all_sessions.append(df)\n",
        "            print(f\"Loaded session {eid}\")\n",
        "        except Exception as e:\n",
        "            print(\"error\")\n",
        "else:\n",
        "    print(\"subject not found\")"
      ],
      "metadata": {
        "id": "FppjnZ55-9nf",
        "colab": {
          "base_uri": "https://localhost:8080/"
        },
        "collapsed": true,
        "outputId": "7393dc52-8560-4104-a6c5-4b1212a0709b"
      },
      "execution_count": 154,
      "outputs": [
        {
          "output_type": "stream",
          "name": "stdout",
          "text": [
            "found subject: CSHL_001 with 10 sessions.\n",
            "Loaded session 81f9aa32-c0a0-489d-8a3f-d5cf8a94b777\n",
            "Loaded session 59029ae8-af64-4da7-a172-3e7e49b306f7\n",
            "Loaded session daacfe62-ce8f-4304-8154-981df72ee52f\n",
            "Loaded session 0a6a537a-cb16-4bac-8a44-a96248247a79\n",
            "Loaded session 124c22b6-8fa1-460f-a36b-708501d825ac\n",
            "Loaded session 817cc288-bb6e-467c-ba34-ab13d6180f26\n",
            "Loaded session 3b015bd1-08ef-4ca7-acf9-15183eabdb1b\n",
            "Loaded session 26d3b621-1279-4a3a-a182-fcc863bc5db1\n",
            "Loaded session 4865b2c8-cc10-47d6-baee-4d500800d27a\n",
            "Loaded session a45d87f7-aae1-4609-b982-175f4ecaf388\n"
          ]
        }
      ]
    },
    {
      "cell_type": "code",
      "source": [
        "# --- Combine all into a single DataFrame ---\n",
        "if all_sessions:\n",
        "    df_all_sess = pd.concat(all_sessions, ignore_index=True)\n",
        "    print(f\"✅ Combined {len(all_sessions)} sessions into df_all with shape: {df_all_sess.shape}\")\n",
        "else:\n",
        "    print(\"...\")\n"
      ],
      "metadata": {
        "colab": {
          "base_uri": "https://localhost:8080/"
        },
        "id": "G5BeB_JoY4hO",
        "outputId": "78967c6d-e616-43b8-eaea-e38cdae4e06c"
      },
      "execution_count": 155,
      "outputs": [
        {
          "output_type": "stream",
          "name": "stdout",
          "text": [
            "✅ Combined 10 sessions into df_all with shape: (5455, 13)\n"
          ]
        }
      ]
    },
    {
      "cell_type": "code",
      "source": [
        "if valid_eids:\n",
        "    eid = valid_eids[0]\n",
        "# Load trial data\n",
        "trials = one.load_object(eid, 'trials')\n",
        "# Show available trial data keys\n",
        "print(\"trial data keys:\", trials.keys())\n"
      ],
      "metadata": {
        "colab": {
          "base_uri": "https://localhost:8080/"
        },
        "id": "uTSVI7uEhmc3",
        "outputId": "f3ecd300-b7f9-48e5-aa2a-774f6ed95815"
      },
      "execution_count": 156,
      "outputs": [
        {
          "output_type": "stream",
          "name": "stdout",
          "text": [
            "trial data keys: dict_keys(['feedbackType', 'contrastRight', 'choice', 'probabilityLeft', 'rewardVolume', 'goCue_times', 'stimOn_times', 'feedback_times', 'response_times', 'firstMovement_times', 'contrastLeft', 'intervals'])\n"
          ]
        }
      ]
    },
    {
      "cell_type": "markdown",
      "source": [],
      "metadata": {
        "id": "RPs1tmFKaQw9"
      }
    },
    {
      "cell_type": "markdown",
      "source": [
        "# Feature Engineering and Visualisation"
      ],
      "metadata": {
        "id": "QTdPPjxojie9"
      }
    },
    {
      "cell_type": "code",
      "source": [
        "trials_1d = {k: v for k, v in trials.items() if isinstance(v, (list, np.ndarray)) and np.array(v).ndim == 1}\n",
        "#convert trials_1d to dataframe\n",
        "df_all_sess = pd.DataFrame(trials_1d)\n",
        "df_all_sess['session_id'] = eid\n",
        "#show first few rows\n",
        "df_all_sess.head()"
      ],
      "metadata": {
        "colab": {
          "base_uri": "https://localhost:8080/",
          "height": 0
        },
        "id": "Y3-_ZxQ1huKB",
        "outputId": "2e2b3917-9957-45a4-cdbd-76b8465b6a0b"
      },
      "execution_count": 157,
      "outputs": [
        {
          "output_type": "execute_result",
          "data": {
            "text/plain": [
              "   feedbackType  contrastRight  choice  probabilityLeft  rewardVolume  \\\n",
              "0          -1.0            NaN    -1.0              0.5           0.0   \n",
              "1          -1.0           0.25     1.0              0.5           0.0   \n",
              "2          -1.0           0.00     1.0              0.5           0.0   \n",
              "3          -1.0            NaN    -1.0              0.5           0.0   \n",
              "4           1.0            NaN     1.0              0.5           1.5   \n",
              "\n",
              "   goCue_times  stimOn_times  feedback_times  response_times  \\\n",
              "0       1.6922           NaN             NaN         16.3270   \n",
              "1      20.0662           NaN             NaN         35.9022   \n",
              "2      39.7385           NaN             NaN         47.0627   \n",
              "3      50.5550           NaN             NaN         50.8648   \n",
              "4      54.3064           NaN         70.1632         70.1632   \n",
              "\n",
              "   firstMovement_times  contrastLeft                            session_id  \n",
              "0                  NaN        0.0625  81f9aa32-c0a0-489d-8a3f-d5cf8a94b777  \n",
              "1                  NaN           NaN  81f9aa32-c0a0-489d-8a3f-d5cf8a94b777  \n",
              "2                  NaN           NaN  81f9aa32-c0a0-489d-8a3f-d5cf8a94b777  \n",
              "3                  NaN        0.0625  81f9aa32-c0a0-489d-8a3f-d5cf8a94b777  \n",
              "4              69.7623        0.1250  81f9aa32-c0a0-489d-8a3f-d5cf8a94b777  "
            ],
            "text/html": [
              "\n",
              "  <div id=\"df-585fc0fd-913e-422f-a786-0fb3cf499f56\" class=\"colab-df-container\">\n",
              "    <div>\n",
              "<style scoped>\n",
              "    .dataframe tbody tr th:only-of-type {\n",
              "        vertical-align: middle;\n",
              "    }\n",
              "\n",
              "    .dataframe tbody tr th {\n",
              "        vertical-align: top;\n",
              "    }\n",
              "\n",
              "    .dataframe thead th {\n",
              "        text-align: right;\n",
              "    }\n",
              "</style>\n",
              "<table border=\"1\" class=\"dataframe\">\n",
              "  <thead>\n",
              "    <tr style=\"text-align: right;\">\n",
              "      <th></th>\n",
              "      <th>feedbackType</th>\n",
              "      <th>contrastRight</th>\n",
              "      <th>choice</th>\n",
              "      <th>probabilityLeft</th>\n",
              "      <th>rewardVolume</th>\n",
              "      <th>goCue_times</th>\n",
              "      <th>stimOn_times</th>\n",
              "      <th>feedback_times</th>\n",
              "      <th>response_times</th>\n",
              "      <th>firstMovement_times</th>\n",
              "      <th>contrastLeft</th>\n",
              "      <th>session_id</th>\n",
              "    </tr>\n",
              "  </thead>\n",
              "  <tbody>\n",
              "    <tr>\n",
              "      <th>0</th>\n",
              "      <td>-1.0</td>\n",
              "      <td>NaN</td>\n",
              "      <td>-1.0</td>\n",
              "      <td>0.5</td>\n",
              "      <td>0.0</td>\n",
              "      <td>1.6922</td>\n",
              "      <td>NaN</td>\n",
              "      <td>NaN</td>\n",
              "      <td>16.3270</td>\n",
              "      <td>NaN</td>\n",
              "      <td>0.0625</td>\n",
              "      <td>81f9aa32-c0a0-489d-8a3f-d5cf8a94b777</td>\n",
              "    </tr>\n",
              "    <tr>\n",
              "      <th>1</th>\n",
              "      <td>-1.0</td>\n",
              "      <td>0.25</td>\n",
              "      <td>1.0</td>\n",
              "      <td>0.5</td>\n",
              "      <td>0.0</td>\n",
              "      <td>20.0662</td>\n",
              "      <td>NaN</td>\n",
              "      <td>NaN</td>\n",
              "      <td>35.9022</td>\n",
              "      <td>NaN</td>\n",
              "      <td>NaN</td>\n",
              "      <td>81f9aa32-c0a0-489d-8a3f-d5cf8a94b777</td>\n",
              "    </tr>\n",
              "    <tr>\n",
              "      <th>2</th>\n",
              "      <td>-1.0</td>\n",
              "      <td>0.00</td>\n",
              "      <td>1.0</td>\n",
              "      <td>0.5</td>\n",
              "      <td>0.0</td>\n",
              "      <td>39.7385</td>\n",
              "      <td>NaN</td>\n",
              "      <td>NaN</td>\n",
              "      <td>47.0627</td>\n",
              "      <td>NaN</td>\n",
              "      <td>NaN</td>\n",
              "      <td>81f9aa32-c0a0-489d-8a3f-d5cf8a94b777</td>\n",
              "    </tr>\n",
              "    <tr>\n",
              "      <th>3</th>\n",
              "      <td>-1.0</td>\n",
              "      <td>NaN</td>\n",
              "      <td>-1.0</td>\n",
              "      <td>0.5</td>\n",
              "      <td>0.0</td>\n",
              "      <td>50.5550</td>\n",
              "      <td>NaN</td>\n",
              "      <td>NaN</td>\n",
              "      <td>50.8648</td>\n",
              "      <td>NaN</td>\n",
              "      <td>0.0625</td>\n",
              "      <td>81f9aa32-c0a0-489d-8a3f-d5cf8a94b777</td>\n",
              "    </tr>\n",
              "    <tr>\n",
              "      <th>4</th>\n",
              "      <td>1.0</td>\n",
              "      <td>NaN</td>\n",
              "      <td>1.0</td>\n",
              "      <td>0.5</td>\n",
              "      <td>1.5</td>\n",
              "      <td>54.3064</td>\n",
              "      <td>NaN</td>\n",
              "      <td>70.1632</td>\n",
              "      <td>70.1632</td>\n",
              "      <td>69.7623</td>\n",
              "      <td>0.1250</td>\n",
              "      <td>81f9aa32-c0a0-489d-8a3f-d5cf8a94b777</td>\n",
              "    </tr>\n",
              "  </tbody>\n",
              "</table>\n",
              "</div>\n",
              "    <div class=\"colab-df-buttons\">\n",
              "\n",
              "  <div class=\"colab-df-container\">\n",
              "    <button class=\"colab-df-convert\" onclick=\"convertToInteractive('df-585fc0fd-913e-422f-a786-0fb3cf499f56')\"\n",
              "            title=\"Convert this dataframe to an interactive table.\"\n",
              "            style=\"display:none;\">\n",
              "\n",
              "  <svg xmlns=\"http://www.w3.org/2000/svg\" height=\"24px\" viewBox=\"0 -960 960 960\">\n",
              "    <path d=\"M120-120v-720h720v720H120Zm60-500h600v-160H180v160Zm220 220h160v-160H400v160Zm0 220h160v-160H400v160ZM180-400h160v-160H180v160Zm440 0h160v-160H620v160ZM180-180h160v-160H180v160Zm440 0h160v-160H620v160Z\"/>\n",
              "  </svg>\n",
              "    </button>\n",
              "\n",
              "  <style>\n",
              "    .colab-df-container {\n",
              "      display:flex;\n",
              "      gap: 12px;\n",
              "    }\n",
              "\n",
              "    .colab-df-convert {\n",
              "      background-color: #E8F0FE;\n",
              "      border: none;\n",
              "      border-radius: 50%;\n",
              "      cursor: pointer;\n",
              "      display: none;\n",
              "      fill: #1967D2;\n",
              "      height: 32px;\n",
              "      padding: 0 0 0 0;\n",
              "      width: 32px;\n",
              "    }\n",
              "\n",
              "    .colab-df-convert:hover {\n",
              "      background-color: #E2EBFA;\n",
              "      box-shadow: 0px 1px 2px rgba(60, 64, 67, 0.3), 0px 1px 3px 1px rgba(60, 64, 67, 0.15);\n",
              "      fill: #174EA6;\n",
              "    }\n",
              "\n",
              "    .colab-df-buttons div {\n",
              "      margin-bottom: 4px;\n",
              "    }\n",
              "\n",
              "    [theme=dark] .colab-df-convert {\n",
              "      background-color: #3B4455;\n",
              "      fill: #D2E3FC;\n",
              "    }\n",
              "\n",
              "    [theme=dark] .colab-df-convert:hover {\n",
              "      background-color: #434B5C;\n",
              "      box-shadow: 0px 1px 3px 1px rgba(0, 0, 0, 0.15);\n",
              "      filter: drop-shadow(0px 1px 2px rgba(0, 0, 0, 0.3));\n",
              "      fill: #FFFFFF;\n",
              "    }\n",
              "  </style>\n",
              "\n",
              "    <script>\n",
              "      const buttonEl =\n",
              "        document.querySelector('#df-585fc0fd-913e-422f-a786-0fb3cf499f56 button.colab-df-convert');\n",
              "      buttonEl.style.display =\n",
              "        google.colab.kernel.accessAllowed ? 'block' : 'none';\n",
              "\n",
              "      async function convertToInteractive(key) {\n",
              "        const element = document.querySelector('#df-585fc0fd-913e-422f-a786-0fb3cf499f56');\n",
              "        const dataTable =\n",
              "          await google.colab.kernel.invokeFunction('convertToInteractive',\n",
              "                                                    [key], {});\n",
              "        if (!dataTable) return;\n",
              "\n",
              "        const docLinkHtml = 'Like what you see? Visit the ' +\n",
              "          '<a target=\"_blank\" href=https://colab.research.google.com/notebooks/data_table.ipynb>data table notebook</a>'\n",
              "          + ' to learn more about interactive tables.';\n",
              "        element.innerHTML = '';\n",
              "        dataTable['output_type'] = 'display_data';\n",
              "        await google.colab.output.renderOutput(dataTable, element);\n",
              "        const docLink = document.createElement('div');\n",
              "        docLink.innerHTML = docLinkHtml;\n",
              "        element.appendChild(docLink);\n",
              "      }\n",
              "    </script>\n",
              "  </div>\n",
              "\n",
              "\n",
              "    <div id=\"df-1136f70f-dcf8-4d9f-a895-9a9383dd646c\">\n",
              "      <button class=\"colab-df-quickchart\" onclick=\"quickchart('df-1136f70f-dcf8-4d9f-a895-9a9383dd646c')\"\n",
              "                title=\"Suggest charts\"\n",
              "                style=\"display:none;\">\n",
              "\n",
              "<svg xmlns=\"http://www.w3.org/2000/svg\" height=\"24px\"viewBox=\"0 0 24 24\"\n",
              "     width=\"24px\">\n",
              "    <g>\n",
              "        <path d=\"M19 3H5c-1.1 0-2 .9-2 2v14c0 1.1.9 2 2 2h14c1.1 0 2-.9 2-2V5c0-1.1-.9-2-2-2zM9 17H7v-7h2v7zm4 0h-2V7h2v10zm4 0h-2v-4h2v4z\"/>\n",
              "    </g>\n",
              "</svg>\n",
              "      </button>\n",
              "\n",
              "<style>\n",
              "  .colab-df-quickchart {\n",
              "      --bg-color: #E8F0FE;\n",
              "      --fill-color: #1967D2;\n",
              "      --hover-bg-color: #E2EBFA;\n",
              "      --hover-fill-color: #174EA6;\n",
              "      --disabled-fill-color: #AAA;\n",
              "      --disabled-bg-color: #DDD;\n",
              "  }\n",
              "\n",
              "  [theme=dark] .colab-df-quickchart {\n",
              "      --bg-color: #3B4455;\n",
              "      --fill-color: #D2E3FC;\n",
              "      --hover-bg-color: #434B5C;\n",
              "      --hover-fill-color: #FFFFFF;\n",
              "      --disabled-bg-color: #3B4455;\n",
              "      --disabled-fill-color: #666;\n",
              "  }\n",
              "\n",
              "  .colab-df-quickchart {\n",
              "    background-color: var(--bg-color);\n",
              "    border: none;\n",
              "    border-radius: 50%;\n",
              "    cursor: pointer;\n",
              "    display: none;\n",
              "    fill: var(--fill-color);\n",
              "    height: 32px;\n",
              "    padding: 0;\n",
              "    width: 32px;\n",
              "  }\n",
              "\n",
              "  .colab-df-quickchart:hover {\n",
              "    background-color: var(--hover-bg-color);\n",
              "    box-shadow: 0 1px 2px rgba(60, 64, 67, 0.3), 0 1px 3px 1px rgba(60, 64, 67, 0.15);\n",
              "    fill: var(--button-hover-fill-color);\n",
              "  }\n",
              "\n",
              "  .colab-df-quickchart-complete:disabled,\n",
              "  .colab-df-quickchart-complete:disabled:hover {\n",
              "    background-color: var(--disabled-bg-color);\n",
              "    fill: var(--disabled-fill-color);\n",
              "    box-shadow: none;\n",
              "  }\n",
              "\n",
              "  .colab-df-spinner {\n",
              "    border: 2px solid var(--fill-color);\n",
              "    border-color: transparent;\n",
              "    border-bottom-color: var(--fill-color);\n",
              "    animation:\n",
              "      spin 1s steps(1) infinite;\n",
              "  }\n",
              "\n",
              "  @keyframes spin {\n",
              "    0% {\n",
              "      border-color: transparent;\n",
              "      border-bottom-color: var(--fill-color);\n",
              "      border-left-color: var(--fill-color);\n",
              "    }\n",
              "    20% {\n",
              "      border-color: transparent;\n",
              "      border-left-color: var(--fill-color);\n",
              "      border-top-color: var(--fill-color);\n",
              "    }\n",
              "    30% {\n",
              "      border-color: transparent;\n",
              "      border-left-color: var(--fill-color);\n",
              "      border-top-color: var(--fill-color);\n",
              "      border-right-color: var(--fill-color);\n",
              "    }\n",
              "    40% {\n",
              "      border-color: transparent;\n",
              "      border-right-color: var(--fill-color);\n",
              "      border-top-color: var(--fill-color);\n",
              "    }\n",
              "    60% {\n",
              "      border-color: transparent;\n",
              "      border-right-color: var(--fill-color);\n",
              "    }\n",
              "    80% {\n",
              "      border-color: transparent;\n",
              "      border-right-color: var(--fill-color);\n",
              "      border-bottom-color: var(--fill-color);\n",
              "    }\n",
              "    90% {\n",
              "      border-color: transparent;\n",
              "      border-bottom-color: var(--fill-color);\n",
              "    }\n",
              "  }\n",
              "</style>\n",
              "\n",
              "      <script>\n",
              "        async function quickchart(key) {\n",
              "          const quickchartButtonEl =\n",
              "            document.querySelector('#' + key + ' button');\n",
              "          quickchartButtonEl.disabled = true;  // To prevent multiple clicks.\n",
              "          quickchartButtonEl.classList.add('colab-df-spinner');\n",
              "          try {\n",
              "            const charts = await google.colab.kernel.invokeFunction(\n",
              "                'suggestCharts', [key], {});\n",
              "          } catch (error) {\n",
              "            console.error('Error during call to suggestCharts:', error);\n",
              "          }\n",
              "          quickchartButtonEl.classList.remove('colab-df-spinner');\n",
              "          quickchartButtonEl.classList.add('colab-df-quickchart-complete');\n",
              "        }\n",
              "        (() => {\n",
              "          let quickchartButtonEl =\n",
              "            document.querySelector('#df-1136f70f-dcf8-4d9f-a895-9a9383dd646c button');\n",
              "          quickchartButtonEl.style.display =\n",
              "            google.colab.kernel.accessAllowed ? 'block' : 'none';\n",
              "        })();\n",
              "      </script>\n",
              "    </div>\n",
              "\n",
              "    </div>\n",
              "  </div>\n"
            ],
            "application/vnd.google.colaboratory.intrinsic+json": {
              "type": "dataframe",
              "variable_name": "df_all_sess",
              "summary": "{\n  \"name\": \"df_all_sess\",\n  \"rows\": 435,\n  \"fields\": [\n    {\n      \"column\": \"feedbackType\",\n      \"properties\": {\n        \"dtype\": \"number\",\n        \"std\": 0.9354391203033147,\n        \"min\": -1.0,\n        \"max\": 1.0,\n        \"num_unique_values\": 2,\n        \"samples\": [\n          1.0,\n          -1.0\n        ],\n        \"semantic_type\": \"\",\n        \"description\": \"\"\n      }\n    },\n    {\n      \"column\": \"contrastRight\",\n      \"properties\": {\n        \"dtype\": \"number\",\n        \"std\": 0.3777621978143059,\n        \"min\": 0.0,\n        \"max\": 1.0,\n        \"num_unique_values\": 5,\n        \"samples\": [\n          0.0,\n          0.0625\n        ],\n        \"semantic_type\": \"\",\n        \"description\": \"\"\n      }\n    },\n    {\n      \"column\": \"choice\",\n      \"properties\": {\n        \"dtype\": \"number\",\n        \"std\": 0.9637862548948367,\n        \"min\": -1.0,\n        \"max\": 1.0,\n        \"num_unique_values\": 3,\n        \"samples\": [\n          -1.0,\n          1.0\n        ],\n        \"semantic_type\": \"\",\n        \"description\": \"\"\n      }\n    },\n    {\n      \"column\": \"probabilityLeft\",\n      \"properties\": {\n        \"dtype\": \"number\",\n        \"std\": 0.2673260426780645,\n        \"min\": 0.2,\n        \"max\": 0.8,\n        \"num_unique_values\": 3,\n        \"samples\": [\n          0.5,\n          0.8\n        ],\n        \"semantic_type\": \"\",\n        \"description\": \"\"\n      }\n    },\n    {\n      \"column\": \"rewardVolume\",\n      \"properties\": {\n        \"dtype\": \"number\",\n        \"std\": 0.7015793402274887,\n        \"min\": 0.0,\n        \"max\": 1.5,\n        \"num_unique_values\": 2,\n        \"samples\": [\n          1.5,\n          0.0\n        ],\n        \"semantic_type\": \"\",\n        \"description\": \"\"\n      }\n    },\n    {\n      \"column\": \"goCue_times\",\n      \"properties\": {\n        \"dtype\": \"number\",\n        \"std\": 720.8654458688814,\n        \"min\": 1.6922000000000001,\n        \"max\": 2641.6595989999996,\n        \"num_unique_values\": 435,\n        \"samples\": [\n          1099.1464999999998,\n          341.5967\n        ],\n        \"semantic_type\": \"\",\n        \"description\": \"\"\n      }\n    },\n    {\n      \"column\": \"stimOn_times\",\n      \"properties\": {\n        \"dtype\": \"number\",\n        \"std\": null,\n        \"min\": null,\n        \"max\": null,\n        \"num_unique_values\": 0,\n        \"samples\": [],\n        \"semantic_type\": \"\",\n        \"description\": \"\"\n      }\n    },\n    {\n      \"column\": \"feedback_times\",\n      \"properties\": {\n        \"dtype\": \"number\",\n        \"std\": 680.1660964857386,\n        \"min\": 70.1632,\n        \"max\": 2634.892499,\n        \"num_unique_values\": 295,\n        \"samples\": [],\n        \"semantic_type\": \"\",\n        \"description\": \"\"\n      }\n    },\n    {\n      \"column\": \"response_times\",\n      \"properties\": {\n        \"dtype\": \"number\",\n        \"std\": 723.4105116528455,\n        \"min\": 16.327,\n        \"max\": 2642.009999,\n        \"num_unique_values\": 435,\n        \"samples\": [],\n        \"semantic_type\": \"\",\n        \"description\": \"\"\n      }\n    },\n    {\n      \"column\": \"firstMovement_times\",\n      \"properties\": {\n        \"dtype\": \"number\",\n        \"std\": 679.8251617545085,\n        \"min\": 69.7622999999921,\n        \"max\": 2634.7942999997094,\n        \"num_unique_values\": 295,\n        \"samples\": [],\n        \"semantic_type\": \"\",\n        \"description\": \"\"\n      }\n    },\n    {\n      \"column\": \"contrastLeft\",\n      \"properties\": {\n        \"dtype\": \"number\",\n        \"std\": 0.3581487981470122,\n        \"min\": 0.0,\n        \"max\": 1.0,\n        \"num_unique_values\": 5,\n        \"samples\": [],\n        \"semantic_type\": \"\",\n        \"description\": \"\"\n      }\n    },\n    {\n      \"column\": \"session_id\",\n      \"properties\": {\n        \"dtype\": \"category\",\n        \"num_unique_values\": 1,\n        \"samples\": [],\n        \"semantic_type\": \"\",\n        \"description\": \"\"\n      }\n    }\n  ]\n}"
            }
          },
          "metadata": {},
          "execution_count": 157
        }
      ]
    },
    {
      "cell_type": "code",
      "source": [
        "df_all_sess['reaction_time']=df_all_sess['response_times']-df_all_sess['goCue_times']\n",
        "df_all_sess['skipped']=df_all_sess['reaction_time'].isna()\n",
        "df_all_sess['correct'] = (df_all_sess['feedbackType'] == 1).astype(int)\n",
        "df_all_sess['MA_reaction_time']=df_all_sess['correct'].rolling(window=10, min_periods=1).mean()\n",
        "choice_map = {1: 1, 0: 0.5, -1: 0}\n",
        "df_all_sess['choice_mapped'] = df_all_sess['choice'].map(choice_map)\n",
        "df_all_sess['rolling_choice_bias'] = df_all_sess['choice_mapped'].rolling(window=10, min_periods=1).mean()\n",
        "df_all_sess['reaction_time_smoothed'] = df_all_sess.groupby('session_id')['reaction_time'].transform(\n",
        "    lambda x: x.rolling(window=10, min_periods=1).mean()\n",
        ")\n",
        "df_all_sess['skip_rate_smoothed'] = df_all_sess.groupby('session_id')['skipped'].transform(\n",
        "    lambda x: x.rolling(window=10, min_periods=1).mean()\n",
        ")\n",
        "df_all_sess['skip_rate_smoothed'] = df_all_sess['skip_rate_smoothed'].astype(int)\n",
        "df_all_sess['rolling_accuracy'] = df_all_sess.groupby('session_id')['correct'].transform(\n",
        "    lambda x: x.rolling(window=10, min_periods=1).mean()\n",
        ")\n",
        "\n",
        "#df_all_sess['trial_block'] = df_all_sess['trial_num'] // 50\n",
        "if 'intervals' in trials and np.array(trials['intervals']).ndim == 2:\n",
        "    intervals = trials['intervals']\n",
        "    df_all_sess['intervals'] = list(intervals)\n",
        "    df_all_sess['trial_start'] = intervals[:, 0]\n",
        "    df_all_sess['trial_end'] = intervals[:, 1]\n",
        "    df_all_sess['trial_duration'] = trials['intervals'][:, 1] - trials['intervals'][:, 0]\n",
        "else:\n",
        "    print(\"data not available\")\n",
        "df_all_sess['inter_trial_interval'] = df_all_sess.groupby('session_id')['intervals'].transform(\n",
        "    lambda x: np.insert(np.diff([i[0] for i in x]), 0, np.nan)\n",
        ")\n",
        "df_all_sess.drop(columns=['choice_mapped'], inplace=True)\n",
        "df_all_sess['inter_trial_interval'][0]=df_all_sess['inter_trial_interval'].mean()"
      ],
      "metadata": {
        "colab": {
          "base_uri": "https://localhost:8080/"
        },
        "collapsed": true,
        "id": "1yeNjtY9iqAw",
        "outputId": "7b7f9bcb-ec31-4c8c-9799-9ef3b6d3fd0e"
      },
      "execution_count": 158,
      "outputs": [
        {
          "output_type": "stream",
          "name": "stderr",
          "text": [
            "<ipython-input-158-ad1391e01f62>:32: FutureWarning: ChainedAssignmentError: behaviour will change in pandas 3.0!\n",
            "You are setting values through chained assignment. Currently this works in certain cases, but when using Copy-on-Write (which will become the default behaviour in pandas 3.0) this will never work to update the original DataFrame or Series, because the intermediate object on which we are setting values will behave as a copy.\n",
            "A typical example is when you are setting values in a column of a DataFrame, like:\n",
            "\n",
            "df[\"col\"][row_indexer] = value\n",
            "\n",
            "Use `df.loc[row_indexer, \"col\"] = values` instead, to perform the assignment in a single step and ensure this keeps updating the original `df`.\n",
            "\n",
            "See the caveats in the documentation: https://pandas.pydata.org/pandas-docs/stable/user_guide/indexing.html#returning-a-view-versus-a-copy\n",
            "\n",
            "  df_all_sess['inter_trial_interval'][0]=df_all_sess['inter_trial_interval'].mean()\n",
            "<ipython-input-158-ad1391e01f62>:32: SettingWithCopyWarning: \n",
            "A value is trying to be set on a copy of a slice from a DataFrame\n",
            "\n",
            "See the caveats in the documentation: https://pandas.pydata.org/pandas-docs/stable/user_guide/indexing.html#returning-a-view-versus-a-copy\n",
            "  df_all_sess['inter_trial_interval'][0]=df_all_sess['inter_trial_interval'].mean()\n"
          ]
        }
      ]
    },
    {
      "cell_type": "code",
      "source": [
        "df_all_sess.head()"
      ],
      "metadata": {
        "colab": {
          "base_uri": "https://localhost:8080/",
          "height": 0
        },
        "id": "0UY3sHiCj_ih",
        "outputId": "f460c57b-9941-4e04-db76-cd32cd32a855"
      },
      "execution_count": 159,
      "outputs": [
        {
          "output_type": "execute_result",
          "data": {
            "text/plain": [
              "   feedbackType  contrastRight  choice  probabilityLeft  rewardVolume  \\\n",
              "0          -1.0            NaN    -1.0              0.5           0.0   \n",
              "1          -1.0           0.25     1.0              0.5           0.0   \n",
              "2          -1.0           0.00     1.0              0.5           0.0   \n",
              "3          -1.0            NaN    -1.0              0.5           0.0   \n",
              "4           1.0            NaN     1.0              0.5           1.5   \n",
              "\n",
              "   goCue_times  stimOn_times  feedback_times  response_times  \\\n",
              "0       1.6922           NaN             NaN         16.3270   \n",
              "1      20.0662           NaN             NaN         35.9022   \n",
              "2      39.7385           NaN             NaN         47.0627   \n",
              "3      50.5550           NaN             NaN         50.8648   \n",
              "4      54.3064           NaN         70.1632         70.1632   \n",
              "\n",
              "   firstMovement_times  ...  MA_reaction_time rolling_choice_bias  \\\n",
              "0                  NaN  ...               0.0            0.000000   \n",
              "1                  NaN  ...               0.0            0.500000   \n",
              "2                  NaN  ...               0.0            0.666667   \n",
              "3                  NaN  ...               0.0            0.500000   \n",
              "4              69.7623  ...               0.2            0.600000   \n",
              "\n",
              "   reaction_time_smoothed  skip_rate_smoothed  rolling_accuracy  \\\n",
              "0               14.634800                   0               0.0   \n",
              "1               15.235400                   0               0.0   \n",
              "2               12.598333                   0               0.0   \n",
              "3                9.526200                   0               0.0   \n",
              "4               10.792320                   0               0.2   \n",
              "\n",
              "                       intervals  trial_start  trial_end  trial_duration  \\\n",
              "0               [0.0, 18.827002]       0.0000  18.827002       18.827002   \n",
              "1           [19.3521, 38.402203]      19.3521  38.402203       19.050103   \n",
              "2  [38.9466, 49.562701999999994]      38.9466  49.562702       10.616102   \n",
              "3           [50.0203, 53.364802]      50.0203  53.364802        3.344502   \n",
              "4           [53.7649, 71.663202]      53.7649  71.663202       17.898302   \n",
              "\n",
              "   inter_trial_interval  \n",
              "0              6.085565  \n",
              "1             19.352100  \n",
              "2             19.594500  \n",
              "3             11.073700  \n",
              "4              3.744600  \n",
              "\n",
              "[5 rows x 25 columns]"
            ],
            "text/html": [
              "\n",
              "  <div id=\"df-4ad03347-0e85-47fb-9da1-83c533cbd306\" class=\"colab-df-container\">\n",
              "    <div>\n",
              "<style scoped>\n",
              "    .dataframe tbody tr th:only-of-type {\n",
              "        vertical-align: middle;\n",
              "    }\n",
              "\n",
              "    .dataframe tbody tr th {\n",
              "        vertical-align: top;\n",
              "    }\n",
              "\n",
              "    .dataframe thead th {\n",
              "        text-align: right;\n",
              "    }\n",
              "</style>\n",
              "<table border=\"1\" class=\"dataframe\">\n",
              "  <thead>\n",
              "    <tr style=\"text-align: right;\">\n",
              "      <th></th>\n",
              "      <th>feedbackType</th>\n",
              "      <th>contrastRight</th>\n",
              "      <th>choice</th>\n",
              "      <th>probabilityLeft</th>\n",
              "      <th>rewardVolume</th>\n",
              "      <th>goCue_times</th>\n",
              "      <th>stimOn_times</th>\n",
              "      <th>feedback_times</th>\n",
              "      <th>response_times</th>\n",
              "      <th>firstMovement_times</th>\n",
              "      <th>...</th>\n",
              "      <th>MA_reaction_time</th>\n",
              "      <th>rolling_choice_bias</th>\n",
              "      <th>reaction_time_smoothed</th>\n",
              "      <th>skip_rate_smoothed</th>\n",
              "      <th>rolling_accuracy</th>\n",
              "      <th>intervals</th>\n",
              "      <th>trial_start</th>\n",
              "      <th>trial_end</th>\n",
              "      <th>trial_duration</th>\n",
              "      <th>inter_trial_interval</th>\n",
              "    </tr>\n",
              "  </thead>\n",
              "  <tbody>\n",
              "    <tr>\n",
              "      <th>0</th>\n",
              "      <td>-1.0</td>\n",
              "      <td>NaN</td>\n",
              "      <td>-1.0</td>\n",
              "      <td>0.5</td>\n",
              "      <td>0.0</td>\n",
              "      <td>1.6922</td>\n",
              "      <td>NaN</td>\n",
              "      <td>NaN</td>\n",
              "      <td>16.3270</td>\n",
              "      <td>NaN</td>\n",
              "      <td>...</td>\n",
              "      <td>0.0</td>\n",
              "      <td>0.000000</td>\n",
              "      <td>14.634800</td>\n",
              "      <td>0</td>\n",
              "      <td>0.0</td>\n",
              "      <td>[0.0, 18.827002]</td>\n",
              "      <td>0.0000</td>\n",
              "      <td>18.827002</td>\n",
              "      <td>18.827002</td>\n",
              "      <td>6.085565</td>\n",
              "    </tr>\n",
              "    <tr>\n",
              "      <th>1</th>\n",
              "      <td>-1.0</td>\n",
              "      <td>0.25</td>\n",
              "      <td>1.0</td>\n",
              "      <td>0.5</td>\n",
              "      <td>0.0</td>\n",
              "      <td>20.0662</td>\n",
              "      <td>NaN</td>\n",
              "      <td>NaN</td>\n",
              "      <td>35.9022</td>\n",
              "      <td>NaN</td>\n",
              "      <td>...</td>\n",
              "      <td>0.0</td>\n",
              "      <td>0.500000</td>\n",
              "      <td>15.235400</td>\n",
              "      <td>0</td>\n",
              "      <td>0.0</td>\n",
              "      <td>[19.3521, 38.402203]</td>\n",
              "      <td>19.3521</td>\n",
              "      <td>38.402203</td>\n",
              "      <td>19.050103</td>\n",
              "      <td>19.352100</td>\n",
              "    </tr>\n",
              "    <tr>\n",
              "      <th>2</th>\n",
              "      <td>-1.0</td>\n",
              "      <td>0.00</td>\n",
              "      <td>1.0</td>\n",
              "      <td>0.5</td>\n",
              "      <td>0.0</td>\n",
              "      <td>39.7385</td>\n",
              "      <td>NaN</td>\n",
              "      <td>NaN</td>\n",
              "      <td>47.0627</td>\n",
              "      <td>NaN</td>\n",
              "      <td>...</td>\n",
              "      <td>0.0</td>\n",
              "      <td>0.666667</td>\n",
              "      <td>12.598333</td>\n",
              "      <td>0</td>\n",
              "      <td>0.0</td>\n",
              "      <td>[38.9466, 49.562701999999994]</td>\n",
              "      <td>38.9466</td>\n",
              "      <td>49.562702</td>\n",
              "      <td>10.616102</td>\n",
              "      <td>19.594500</td>\n",
              "    </tr>\n",
              "    <tr>\n",
              "      <th>3</th>\n",
              "      <td>-1.0</td>\n",
              "      <td>NaN</td>\n",
              "      <td>-1.0</td>\n",
              "      <td>0.5</td>\n",
              "      <td>0.0</td>\n",
              "      <td>50.5550</td>\n",
              "      <td>NaN</td>\n",
              "      <td>NaN</td>\n",
              "      <td>50.8648</td>\n",
              "      <td>NaN</td>\n",
              "      <td>...</td>\n",
              "      <td>0.0</td>\n",
              "      <td>0.500000</td>\n",
              "      <td>9.526200</td>\n",
              "      <td>0</td>\n",
              "      <td>0.0</td>\n",
              "      <td>[50.0203, 53.364802]</td>\n",
              "      <td>50.0203</td>\n",
              "      <td>53.364802</td>\n",
              "      <td>3.344502</td>\n",
              "      <td>11.073700</td>\n",
              "    </tr>\n",
              "    <tr>\n",
              "      <th>4</th>\n",
              "      <td>1.0</td>\n",
              "      <td>NaN</td>\n",
              "      <td>1.0</td>\n",
              "      <td>0.5</td>\n",
              "      <td>1.5</td>\n",
              "      <td>54.3064</td>\n",
              "      <td>NaN</td>\n",
              "      <td>70.1632</td>\n",
              "      <td>70.1632</td>\n",
              "      <td>69.7623</td>\n",
              "      <td>...</td>\n",
              "      <td>0.2</td>\n",
              "      <td>0.600000</td>\n",
              "      <td>10.792320</td>\n",
              "      <td>0</td>\n",
              "      <td>0.2</td>\n",
              "      <td>[53.7649, 71.663202]</td>\n",
              "      <td>53.7649</td>\n",
              "      <td>71.663202</td>\n",
              "      <td>17.898302</td>\n",
              "      <td>3.744600</td>\n",
              "    </tr>\n",
              "  </tbody>\n",
              "</table>\n",
              "<p>5 rows × 25 columns</p>\n",
              "</div>\n",
              "    <div class=\"colab-df-buttons\">\n",
              "\n",
              "  <div class=\"colab-df-container\">\n",
              "    <button class=\"colab-df-convert\" onclick=\"convertToInteractive('df-4ad03347-0e85-47fb-9da1-83c533cbd306')\"\n",
              "            title=\"Convert this dataframe to an interactive table.\"\n",
              "            style=\"display:none;\">\n",
              "\n",
              "  <svg xmlns=\"http://www.w3.org/2000/svg\" height=\"24px\" viewBox=\"0 -960 960 960\">\n",
              "    <path d=\"M120-120v-720h720v720H120Zm60-500h600v-160H180v160Zm220 220h160v-160H400v160Zm0 220h160v-160H400v160ZM180-400h160v-160H180v160Zm440 0h160v-160H620v160ZM180-180h160v-160H180v160Zm440 0h160v-160H620v160Z\"/>\n",
              "  </svg>\n",
              "    </button>\n",
              "\n",
              "  <style>\n",
              "    .colab-df-container {\n",
              "      display:flex;\n",
              "      gap: 12px;\n",
              "    }\n",
              "\n",
              "    .colab-df-convert {\n",
              "      background-color: #E8F0FE;\n",
              "      border: none;\n",
              "      border-radius: 50%;\n",
              "      cursor: pointer;\n",
              "      display: none;\n",
              "      fill: #1967D2;\n",
              "      height: 32px;\n",
              "      padding: 0 0 0 0;\n",
              "      width: 32px;\n",
              "    }\n",
              "\n",
              "    .colab-df-convert:hover {\n",
              "      background-color: #E2EBFA;\n",
              "      box-shadow: 0px 1px 2px rgba(60, 64, 67, 0.3), 0px 1px 3px 1px rgba(60, 64, 67, 0.15);\n",
              "      fill: #174EA6;\n",
              "    }\n",
              "\n",
              "    .colab-df-buttons div {\n",
              "      margin-bottom: 4px;\n",
              "    }\n",
              "\n",
              "    [theme=dark] .colab-df-convert {\n",
              "      background-color: #3B4455;\n",
              "      fill: #D2E3FC;\n",
              "    }\n",
              "\n",
              "    [theme=dark] .colab-df-convert:hover {\n",
              "      background-color: #434B5C;\n",
              "      box-shadow: 0px 1px 3px 1px rgba(0, 0, 0, 0.15);\n",
              "      filter: drop-shadow(0px 1px 2px rgba(0, 0, 0, 0.3));\n",
              "      fill: #FFFFFF;\n",
              "    }\n",
              "  </style>\n",
              "\n",
              "    <script>\n",
              "      const buttonEl =\n",
              "        document.querySelector('#df-4ad03347-0e85-47fb-9da1-83c533cbd306 button.colab-df-convert');\n",
              "      buttonEl.style.display =\n",
              "        google.colab.kernel.accessAllowed ? 'block' : 'none';\n",
              "\n",
              "      async function convertToInteractive(key) {\n",
              "        const element = document.querySelector('#df-4ad03347-0e85-47fb-9da1-83c533cbd306');\n",
              "        const dataTable =\n",
              "          await google.colab.kernel.invokeFunction('convertToInteractive',\n",
              "                                                    [key], {});\n",
              "        if (!dataTable) return;\n",
              "\n",
              "        const docLinkHtml = 'Like what you see? Visit the ' +\n",
              "          '<a target=\"_blank\" href=https://colab.research.google.com/notebooks/data_table.ipynb>data table notebook</a>'\n",
              "          + ' to learn more about interactive tables.';\n",
              "        element.innerHTML = '';\n",
              "        dataTable['output_type'] = 'display_data';\n",
              "        await google.colab.output.renderOutput(dataTable, element);\n",
              "        const docLink = document.createElement('div');\n",
              "        docLink.innerHTML = docLinkHtml;\n",
              "        element.appendChild(docLink);\n",
              "      }\n",
              "    </script>\n",
              "  </div>\n",
              "\n",
              "\n",
              "    <div id=\"df-19eee3ec-d0c2-4758-af8f-1189dc51513c\">\n",
              "      <button class=\"colab-df-quickchart\" onclick=\"quickchart('df-19eee3ec-d0c2-4758-af8f-1189dc51513c')\"\n",
              "                title=\"Suggest charts\"\n",
              "                style=\"display:none;\">\n",
              "\n",
              "<svg xmlns=\"http://www.w3.org/2000/svg\" height=\"24px\"viewBox=\"0 0 24 24\"\n",
              "     width=\"24px\">\n",
              "    <g>\n",
              "        <path d=\"M19 3H5c-1.1 0-2 .9-2 2v14c0 1.1.9 2 2 2h14c1.1 0 2-.9 2-2V5c0-1.1-.9-2-2-2zM9 17H7v-7h2v7zm4 0h-2V7h2v10zm4 0h-2v-4h2v4z\"/>\n",
              "    </g>\n",
              "</svg>\n",
              "      </button>\n",
              "\n",
              "<style>\n",
              "  .colab-df-quickchart {\n",
              "      --bg-color: #E8F0FE;\n",
              "      --fill-color: #1967D2;\n",
              "      --hover-bg-color: #E2EBFA;\n",
              "      --hover-fill-color: #174EA6;\n",
              "      --disabled-fill-color: #AAA;\n",
              "      --disabled-bg-color: #DDD;\n",
              "  }\n",
              "\n",
              "  [theme=dark] .colab-df-quickchart {\n",
              "      --bg-color: #3B4455;\n",
              "      --fill-color: #D2E3FC;\n",
              "      --hover-bg-color: #434B5C;\n",
              "      --hover-fill-color: #FFFFFF;\n",
              "      --disabled-bg-color: #3B4455;\n",
              "      --disabled-fill-color: #666;\n",
              "  }\n",
              "\n",
              "  .colab-df-quickchart {\n",
              "    background-color: var(--bg-color);\n",
              "    border: none;\n",
              "    border-radius: 50%;\n",
              "    cursor: pointer;\n",
              "    display: none;\n",
              "    fill: var(--fill-color);\n",
              "    height: 32px;\n",
              "    padding: 0;\n",
              "    width: 32px;\n",
              "  }\n",
              "\n",
              "  .colab-df-quickchart:hover {\n",
              "    background-color: var(--hover-bg-color);\n",
              "    box-shadow: 0 1px 2px rgba(60, 64, 67, 0.3), 0 1px 3px 1px rgba(60, 64, 67, 0.15);\n",
              "    fill: var(--button-hover-fill-color);\n",
              "  }\n",
              "\n",
              "  .colab-df-quickchart-complete:disabled,\n",
              "  .colab-df-quickchart-complete:disabled:hover {\n",
              "    background-color: var(--disabled-bg-color);\n",
              "    fill: var(--disabled-fill-color);\n",
              "    box-shadow: none;\n",
              "  }\n",
              "\n",
              "  .colab-df-spinner {\n",
              "    border: 2px solid var(--fill-color);\n",
              "    border-color: transparent;\n",
              "    border-bottom-color: var(--fill-color);\n",
              "    animation:\n",
              "      spin 1s steps(1) infinite;\n",
              "  }\n",
              "\n",
              "  @keyframes spin {\n",
              "    0% {\n",
              "      border-color: transparent;\n",
              "      border-bottom-color: var(--fill-color);\n",
              "      border-left-color: var(--fill-color);\n",
              "    }\n",
              "    20% {\n",
              "      border-color: transparent;\n",
              "      border-left-color: var(--fill-color);\n",
              "      border-top-color: var(--fill-color);\n",
              "    }\n",
              "    30% {\n",
              "      border-color: transparent;\n",
              "      border-left-color: var(--fill-color);\n",
              "      border-top-color: var(--fill-color);\n",
              "      border-right-color: var(--fill-color);\n",
              "    }\n",
              "    40% {\n",
              "      border-color: transparent;\n",
              "      border-right-color: var(--fill-color);\n",
              "      border-top-color: var(--fill-color);\n",
              "    }\n",
              "    60% {\n",
              "      border-color: transparent;\n",
              "      border-right-color: var(--fill-color);\n",
              "    }\n",
              "    80% {\n",
              "      border-color: transparent;\n",
              "      border-right-color: var(--fill-color);\n",
              "      border-bottom-color: var(--fill-color);\n",
              "    }\n",
              "    90% {\n",
              "      border-color: transparent;\n",
              "      border-bottom-color: var(--fill-color);\n",
              "    }\n",
              "  }\n",
              "</style>\n",
              "\n",
              "      <script>\n",
              "        async function quickchart(key) {\n",
              "          const quickchartButtonEl =\n",
              "            document.querySelector('#' + key + ' button');\n",
              "          quickchartButtonEl.disabled = true;  // To prevent multiple clicks.\n",
              "          quickchartButtonEl.classList.add('colab-df-spinner');\n",
              "          try {\n",
              "            const charts = await google.colab.kernel.invokeFunction(\n",
              "                'suggestCharts', [key], {});\n",
              "          } catch (error) {\n",
              "            console.error('Error during call to suggestCharts:', error);\n",
              "          }\n",
              "          quickchartButtonEl.classList.remove('colab-df-spinner');\n",
              "          quickchartButtonEl.classList.add('colab-df-quickchart-complete');\n",
              "        }\n",
              "        (() => {\n",
              "          let quickchartButtonEl =\n",
              "            document.querySelector('#df-19eee3ec-d0c2-4758-af8f-1189dc51513c button');\n",
              "          quickchartButtonEl.style.display =\n",
              "            google.colab.kernel.accessAllowed ? 'block' : 'none';\n",
              "        })();\n",
              "      </script>\n",
              "    </div>\n",
              "\n",
              "    </div>\n",
              "  </div>\n"
            ],
            "application/vnd.google.colaboratory.intrinsic+json": {
              "type": "dataframe",
              "variable_name": "df_all_sess"
            }
          },
          "metadata": {},
          "execution_count": 159
        }
      ]
    },
    {
      "cell_type": "markdown",
      "source": [
        "# Boredom score computation and plotting\n"
      ],
      "metadata": {
        "id": "0wNLPNFXaJBY"
      }
    },
    {
      "cell_type": "markdown",
      "source": [
        "**Hypertuning the parameters**\n",
        "\n",
        "\n",
        "---\n",
        "\n",
        "\n",
        "\n"
      ],
      "metadata": {
        "id": "kOY7nItzkTJV"
      }
    },
    {
      "cell_type": "code",
      "source": [
        "w1=1.0 #more than 0\n",
        "w2=1.0 #more than 0\n",
        "w3=1.0 #more than 0\n",
        "w4=1.0 #more than 0\n",
        "w5=1.0 #more than 0"
      ],
      "metadata": {
        "id": "3LFNeKI-cPLx"
      },
      "execution_count": 160,
      "outputs": []
    },
    {
      "cell_type": "markdown",
      "source": [
        "Calculating Boredom Scores\n",
        "\n",
        "---\n",
        "\n"
      ],
      "metadata": {
        "id": "v9PCfCFooau4"
      }
    },
    {
      "cell_type": "code",
      "source": [
        "df_all_sess['boredom_score'] = (w1*df_all_sess['reaction_time_smoothed'] +w2*(1 - df_all_sess['rolling_accuracy']) + w3*df_all_sess['trial_duration']+w4*df_all_sess['skip_rate_smoothed'])\n",
        "df_all_sess['boredom_score'].head()"
      ],
      "metadata": {
        "colab": {
          "base_uri": "https://localhost:8080/",
          "height": 0
        },
        "id": "c1Jph8skad6M",
        "outputId": "e60e677c-666b-4215-fc63-2464a4d73830"
      },
      "execution_count": 161,
      "outputs": [
        {
          "output_type": "execute_result",
          "data": {
            "text/plain": [
              "0    34.461802\n",
              "1    35.285503\n",
              "2    24.214435\n",
              "3    13.870702\n",
              "4    29.490622\n",
              "Name: boredom_score, dtype: float64"
            ],
            "text/html": [
              "<div>\n",
              "<style scoped>\n",
              "    .dataframe tbody tr th:only-of-type {\n",
              "        vertical-align: middle;\n",
              "    }\n",
              "\n",
              "    .dataframe tbody tr th {\n",
              "        vertical-align: top;\n",
              "    }\n",
              "\n",
              "    .dataframe thead th {\n",
              "        text-align: right;\n",
              "    }\n",
              "</style>\n",
              "<table border=\"1\" class=\"dataframe\">\n",
              "  <thead>\n",
              "    <tr style=\"text-align: right;\">\n",
              "      <th></th>\n",
              "      <th>boredom_score</th>\n",
              "    </tr>\n",
              "  </thead>\n",
              "  <tbody>\n",
              "    <tr>\n",
              "      <th>0</th>\n",
              "      <td>34.461802</td>\n",
              "    </tr>\n",
              "    <tr>\n",
              "      <th>1</th>\n",
              "      <td>35.285503</td>\n",
              "    </tr>\n",
              "    <tr>\n",
              "      <th>2</th>\n",
              "      <td>24.214435</td>\n",
              "    </tr>\n",
              "    <tr>\n",
              "      <th>3</th>\n",
              "      <td>13.870702</td>\n",
              "    </tr>\n",
              "    <tr>\n",
              "      <th>4</th>\n",
              "      <td>29.490622</td>\n",
              "    </tr>\n",
              "  </tbody>\n",
              "</table>\n",
              "</div><br><label><b>dtype:</b> float64</label>"
            ]
          },
          "metadata": {},
          "execution_count": 161
        }
      ]
    },
    {
      "cell_type": "markdown",
      "source": [
        "Attempt to make it continuous\n",
        "\n",
        "---\n",
        "\n"
      ],
      "metadata": {
        "id": "m3cew82wojC3"
      }
    },
    {
      "cell_type": "code",
      "source": [
        "from sklearn.preprocessing import MinMaxScaler\n",
        "features = ['reaction_time_smoothed','skip_rate_smoothed','trial_duration']\n",
        "#rolling accuracy increase suggests low boredom index\n",
        "df_all_sess['inaccuracy'] = 1 - df_all_sess['rolling_accuracy']\n",
        "#replacing inf/nan with 0 for safe scaling\n",
        "df_all_sess[features + ['inaccuracy']] = df_all_sess[features + ['inaccuracy']].replace([np.inf, -np.inf], np.nan).fillna(0)\n",
        "#normalizing the session\n",
        "df_all_sess_norm = df_all_sess.copy()\n",
        "for session_id in df_all_sess['session_id'].unique():\n",
        "    session_mask = df_all_sess['session_id'] == session_id\n",
        "    scaler = MinMaxScaler()\n",
        "    df_all_sess_norm.loc[session_mask, ['reaction_time_smoothed', 'skip_rate_smoothed','trial_duration', 'inaccuracy']] = scaler.fit_transform(df_all_sess.loc[session_mask, ['reaction_time_smoothed', 'skip_rate_smoothed','trial_duration','inaccuracy']])"
      ],
      "metadata": {
        "id": "RZsPkWWtl8rk"
      },
      "execution_count": 162,
      "outputs": []
    },
    {
      "cell_type": "code",
      "source": [
        "df_all_sess_norm['boredom_score'] = (w1* df_all_sess_norm['reaction_time_smoothed'] +w4* df_all_sess_norm['skip_rate_smoothed'] +w3* df_all_sess_norm['trial_duration']+w2* df_all_sess_norm['inaccuracy'])"
      ],
      "metadata": {
        "id": "HNIZ3VM9nh-D"
      },
      "execution_count": 163,
      "outputs": []
    },
    {
      "cell_type": "code",
      "source": [
        "df_all_sess_norm['boredom_score_smoothed'] = df_all_sess_norm.groupby('session_id')['boredom_score'].transform(lambda x: x.rolling(window=10, min_periods=1).mean())\n",
        "df_all_sess_norm['trial_num'] = df_all_sess_norm.groupby('session_id').cumcount()"
      ],
      "metadata": {
        "id": "VpLvUFnDoFpF"
      },
      "execution_count": 164,
      "outputs": []
    },
    {
      "cell_type": "code",
      "source": [
        "df_all_sess_norm.head()\n",
        "df_all_sess_norm['rolling_accuracy'].head(20)"
      ],
      "metadata": {
        "collapsed": true,
        "colab": {
          "base_uri": "https://localhost:8080/",
          "height": 0
        },
        "id": "oNj4eBZYrW9r",
        "outputId": "6ec78834-2fbc-4faa-ac52-eb43f266bf78"
      },
      "execution_count": 165,
      "outputs": [
        {
          "output_type": "execute_result",
          "data": {
            "text/plain": [
              "0     0.000000\n",
              "1     0.000000\n",
              "2     0.000000\n",
              "3     0.000000\n",
              "4     0.200000\n",
              "5     0.333333\n",
              "6     0.428571\n",
              "7     0.500000\n",
              "8     0.444444\n",
              "9     0.400000\n",
              "10    0.500000\n",
              "11    0.600000\n",
              "12    0.700000\n",
              "13    0.700000\n",
              "14    0.700000\n",
              "15    0.600000\n",
              "16    0.600000\n",
              "17    0.600000\n",
              "18    0.700000\n",
              "19    0.800000\n",
              "Name: rolling_accuracy, dtype: float64"
            ],
            "text/html": [
              "<div>\n",
              "<style scoped>\n",
              "    .dataframe tbody tr th:only-of-type {\n",
              "        vertical-align: middle;\n",
              "    }\n",
              "\n",
              "    .dataframe tbody tr th {\n",
              "        vertical-align: top;\n",
              "    }\n",
              "\n",
              "    .dataframe thead th {\n",
              "        text-align: right;\n",
              "    }\n",
              "</style>\n",
              "<table border=\"1\" class=\"dataframe\">\n",
              "  <thead>\n",
              "    <tr style=\"text-align: right;\">\n",
              "      <th></th>\n",
              "      <th>rolling_accuracy</th>\n",
              "    </tr>\n",
              "  </thead>\n",
              "  <tbody>\n",
              "    <tr>\n",
              "      <th>0</th>\n",
              "      <td>0.000000</td>\n",
              "    </tr>\n",
              "    <tr>\n",
              "      <th>1</th>\n",
              "      <td>0.000000</td>\n",
              "    </tr>\n",
              "    <tr>\n",
              "      <th>2</th>\n",
              "      <td>0.000000</td>\n",
              "    </tr>\n",
              "    <tr>\n",
              "      <th>3</th>\n",
              "      <td>0.000000</td>\n",
              "    </tr>\n",
              "    <tr>\n",
              "      <th>4</th>\n",
              "      <td>0.200000</td>\n",
              "    </tr>\n",
              "    <tr>\n",
              "      <th>5</th>\n",
              "      <td>0.333333</td>\n",
              "    </tr>\n",
              "    <tr>\n",
              "      <th>6</th>\n",
              "      <td>0.428571</td>\n",
              "    </tr>\n",
              "    <tr>\n",
              "      <th>7</th>\n",
              "      <td>0.500000</td>\n",
              "    </tr>\n",
              "    <tr>\n",
              "      <th>8</th>\n",
              "      <td>0.444444</td>\n",
              "    </tr>\n",
              "    <tr>\n",
              "      <th>9</th>\n",
              "      <td>0.400000</td>\n",
              "    </tr>\n",
              "    <tr>\n",
              "      <th>10</th>\n",
              "      <td>0.500000</td>\n",
              "    </tr>\n",
              "    <tr>\n",
              "      <th>11</th>\n",
              "      <td>0.600000</td>\n",
              "    </tr>\n",
              "    <tr>\n",
              "      <th>12</th>\n",
              "      <td>0.700000</td>\n",
              "    </tr>\n",
              "    <tr>\n",
              "      <th>13</th>\n",
              "      <td>0.700000</td>\n",
              "    </tr>\n",
              "    <tr>\n",
              "      <th>14</th>\n",
              "      <td>0.700000</td>\n",
              "    </tr>\n",
              "    <tr>\n",
              "      <th>15</th>\n",
              "      <td>0.600000</td>\n",
              "    </tr>\n",
              "    <tr>\n",
              "      <th>16</th>\n",
              "      <td>0.600000</td>\n",
              "    </tr>\n",
              "    <tr>\n",
              "      <th>17</th>\n",
              "      <td>0.600000</td>\n",
              "    </tr>\n",
              "    <tr>\n",
              "      <th>18</th>\n",
              "      <td>0.700000</td>\n",
              "    </tr>\n",
              "    <tr>\n",
              "      <th>19</th>\n",
              "      <td>0.800000</td>\n",
              "    </tr>\n",
              "  </tbody>\n",
              "</table>\n",
              "</div><br><label><b>dtype:</b> float64</label>"
            ]
          },
          "metadata": {},
          "execution_count": 165
        }
      ]
    },
    {
      "cell_type": "markdown",
      "source": [
        "***Creating a plot of continuous boredom score***\n",
        "\n",
        "---\n",
        "\n"
      ],
      "metadata": {
        "id": "hCtWeYivp_T_"
      }
    },
    {
      "cell_type": "code",
      "source": [
        "sample_sess = df_all_sess_norm['session_id'].unique()[:3]\n",
        "#set the style\n",
        "sns.set(style=\"whitegrid\",palette=\"muted\",font_scale=1.2)\n",
        "#plot each session's boredom score over trial number\n",
        "plt.figure(figsize=(9,6))\n",
        "for session_id in sample_sess:\n",
        "    session_df = df_all_sess_norm[df_all_sess_norm['session_id'] == session_id]\n",
        "    plt.plot(session_df['trial_num'], session_df['boredom_score_smoothed'], label=f\"Session {str(session_id)[:6]}\", alpha=0.8)\n",
        "plt.title(\"Smoothed Boredom Score for the session\")\n",
        "plt.xlabel(\"trial Number\")\n",
        "plt.ylabel(\"boredom Score (0–1)\")\n",
        "plt.legend()\n",
        "plt.tight_layout()\n",
        "plt.show()"
      ],
      "metadata": {
        "colab": {
          "base_uri": "https://localhost:8080/",
          "height": 0
        },
        "id": "A3F2cGWjpCy3",
        "outputId": "9eeaa294-4a9e-4f0d-abfd-5302c3ee22ae"
      },
      "execution_count": 166,
      "outputs": [
        {
          "output_type": "display_data",
          "data": {
            "text/plain": [
              "<Figure size 900x600 with 1 Axes>"
            ],
            "image/png": "[encoded data removed]"
          },
          "metadata": {}
        }
      ]
    },
    {
      "cell_type": "markdown",
      "source": [
        "# Model architecture and training"
      ],
      "metadata": {
        "id": "D1i5SmG8qnb6"
      }
    },
    {
      "cell_type": "code",
      "source": [
        "from sklearn.ensemble import RandomForestRegressor\n",
        "from sklearn.model_selection import train_test_split\n",
        "from sklearn.metrics import r2_score, mean_squared_error\n",
        "from sklearn.model_selection import train_test_split"
      ],
      "metadata": {
        "id": "t1InQwDxqt7L"
      },
      "execution_count": 167,
      "outputs": []
    },
    {
      "cell_type": "code",
      "source": [
        "#features to use\n",
        "feature_cols = ['reaction_time_smoothed','rolling_accuracy','skip_rate_smoothed','trial_duration']\n",
        "target_col = 'boredom_score'"
      ],
      "metadata": {
        "id": "yIkKFq5xq3bg"
      },
      "execution_count": 168,
      "outputs": []
    },
    {
      "cell_type": "code",
      "source": [
        "# # Split trials randomly within the session (less ideal for generalization)\n",
        "# X = df_all_sess_norm[feature_cols]\n",
        "# y = df_all_sess_norm[target_col]\n",
        "# X_train, X_test, y_train, y_test = train_test_split(X, y, test_size=0.2, random_state=42)\n",
        "df_model = df_all_sess.dropna(subset=features + [target_col])\n",
        "X = df_model[feature_cols]\n",
        "y = df_model[target_col]\n",
        "X_train, X_test, y_train, y_test = train_test_split(X, y, test_size=0.3, random_state=42)\n"
      ],
      "metadata": {
        "id": "TMCQ24jlrEDh"
      },
      "execution_count": 169,
      "outputs": []
    },
    {
      "cell_type": "code",
      "source": [
        "# Train\n",
        "rf = RandomForestRegressor(n_estimators=100, random_state=42)\n",
        "rf.fit(X_train, y_train)"
      ],
      "metadata": {
        "colab": {
          "base_uri": "https://localhost:8080/",
          "height": 80
        },
        "id": "DE751TyssDIw",
        "outputId": "738e9137-f155-4609-c9a5-07051dc462b9"
      },
      "execution_count": 170,
      "outputs": [
        {
          "output_type": "execute_result",
          "data": {
            "text/plain": [
              "RandomForestRegressor(random_state=42)"
            ],
            "text/html": [
              "<style>#sk-container-id-5 {\n",
              "  /* Definition of color scheme common for light and dark mode */\n",
              "  --sklearn-color-text: #000;\n",
              "  --sklearn-color-text-muted: #666;\n",
              "  --sklearn-color-line: gray;\n",
              "  /* Definition of color scheme for unfitted estimators */\n",
              "  --sklearn-color-unfitted-level-0: #fff5e6;\n",
              "  --sklearn-color-unfitted-level-1: #f6e4d2;\n",
              "  --sklearn-color-unfitted-level-2: #ffe0b3;\n",
              "  --sklearn-color-unfitted-level-3: chocolate;\n",
              "  /* Definition of color scheme for fitted estimators */\n",
              "  --sklearn-color-fitted-level-0: #f0f8ff;\n",
              "  --sklearn-color-fitted-level-1: #d4ebff;\n",
              "  --sklearn-color-fitted-level-2: #b3dbfd;\n",
              "  --sklearn-color-fitted-level-3: cornflowerblue;\n",
              "\n",
              "  /* Specific color for light theme */\n",
              "  --sklearn-color-text-on-default-background: var(--sg-text-color, var(--theme-code-foreground, var(--jp-content-font-color1, black)));\n",
              "  --sklearn-color-background: var(--sg-background-color, var(--theme-background, var(--jp-layout-color0, white)));\n",
              "  --sklearn-color-border-box: var(--sg-text-color, var(--theme-code-foreground, var(--jp-content-font-color1, black)));\n",
              "  --sklearn-color-icon: #696969;\n",
              "\n",
              "  @media (prefers-color-scheme: dark) {\n",
              "    /* Redefinition of color scheme for dark theme */\n",
              "    --sklearn-color-text-on-default-background: var(--sg-text-color, var(--theme-code-foreground, var(--jp-content-font-color1, white)));\n",
              "    --sklearn-color-background: var(--sg-background-color, var(--theme-background, var(--jp-layout-color0, #111)));\n",
              "    --sklearn-color-border-box: var(--sg-text-color, var(--theme-code-foreground, var(--jp-content-font-color1, white)));\n",
              "    --sklearn-color-icon: #878787;\n",
              "  }\n",
              "}\n",
              "\n",
              "#sk-container-id-5 {\n",
              "  color: var(--sklearn-color-text);\n",
              "}\n",
              "\n",
              "#sk-container-id-5 pre {\n",
              "  padding: 0;\n",
              "}\n",
              "\n",
              "#sk-container-id-5 input.sk-hidden--visually {\n",
              "  border: 0;\n",
              "  clip: rect(1px 1px 1px 1px);\n",
              "  clip: rect(1px, 1px, 1px, 1px);\n",
              "  height: 1px;\n",
              "  margin: -1px;\n",
              "  overflow: hidden;\n",
              "  padding: 0;\n",
              "  position: absolute;\n",
              "  width: 1px;\n",
              "}\n",
              "\n",
              "#sk-container-id-5 div.sk-dashed-wrapped {\n",
              "  border: 1px dashed var(--sklearn-color-line);\n",
              "  margin: 0 0.4em 0.5em 0.4em;\n",
              "  box-sizing: border-box;\n",
              "  padding-bottom: 0.4em;\n",
              "  background-color: var(--sklearn-color-background);\n",
              "}\n",
              "\n",
              "#sk-container-id-5 div.sk-container {\n",
              "  /* jupyter's `normalize.less` sets `[hidden] { display: none; }`\n",
              "     but bootstrap.min.css set `[hidden] { display: none !important; }`\n",
              "     so we also need the `!important` here to be able to override the\n",
              "     default hidden behavior on the sphinx rendered scikit-learn.org.\n",
              "     See: https://github.com/scikit-learn/scikit-learn/issues/21755 */\n",
              "  display: inline-block !important;\n",
              "  position: relative;\n",
              "}\n",
              "\n",
              "#sk-container-id-5 div.sk-text-repr-fallback {\n",
              "  display: none;\n",
              "}\n",
              "\n",
              "div.sk-parallel-item,\n",
              "div.sk-serial,\n",
              "div.sk-item {\n",
              "  /* draw centered vertical line to link estimators */\n",
              "  background-image: linear-gradient(var(--sklearn-color-text-on-default-background), var(--sklearn-color-text-on-default-background));\n",
              "  background-size: 2px 100%;\n",
              "  background-repeat: no-repeat;\n",
              "  background-position: center center;\n",
              "}\n",
              "\n",
              "/* Parallel-specific style estimator block */\n",
              "\n",
              "#sk-container-id-5 div.sk-parallel-item::after {\n",
              "  content: \"\";\n",
              "  width: 100%;\n",
              "  border-bottom: 2px solid var(--sklearn-color-text-on-default-background);\n",
              "  flex-grow: 1;\n",
              "}\n",
              "\n",
              "#sk-container-id-5 div.sk-parallel {\n",
              "  display: flex;\n",
              "  align-items: stretch;\n",
              "  justify-content: center;\n",
              "  background-color: var(--sklearn-color-background);\n",
              "  position: relative;\n",
              "}\n",
              "\n",
              "#sk-container-id-5 div.sk-parallel-item {\n",
              "  display: flex;\n",
              "  flex-direction: column;\n",
              "}\n",
              "\n",
              "#sk-container-id-5 div.sk-parallel-item:first-child::after {\n",
              "  align-self: flex-end;\n",
              "  width: 50%;\n",
              "}\n",
              "\n",
              "#sk-container-id-5 div.sk-parallel-item:last-child::after {\n",
              "  align-self: flex-start;\n",
              "  width: 50%;\n",
              "}\n",
              "\n",
              "#sk-container-id-5 div.sk-parallel-item:only-child::after {\n",
              "  width: 0;\n",
              "}\n",
              "\n",
              "/* Serial-specific style estimator block */\n",
              "\n",
              "#sk-container-id-5 div.sk-serial {\n",
              "  display: flex;\n",
              "  flex-direction: column;\n",
              "  align-items: center;\n",
              "  background-color: var(--sklearn-color-background);\n",
              "  padding-right: 1em;\n",
              "  padding-left: 1em;\n",
              "}\n",
              "\n",
              "\n",
              "/* Toggleable style: style used for estimator/Pipeline/ColumnTransformer box that is\n",
              "clickable and can be expanded/collapsed.\n",
              "- Pipeline and ColumnTransformer use this feature and define the default style\n",
              "- Estimators will overwrite some part of the style using the `sk-estimator` class\n",
              "*/\n",
              "\n",
              "/* Pipeline and ColumnTransformer style (default) */\n",
              "\n",
              "#sk-container-id-5 div.sk-toggleable {\n",
              "  /* Default theme specific background. It is overwritten whether we have a\n",
              "  specific estimator or a Pipeline/ColumnTransformer */\n",
              "  background-color: var(--sklearn-color-background);\n",
              "}\n",
              "\n",
              "/* Toggleable label */\n",
              "#sk-container-id-5 label.sk-toggleable__label {\n",
              "  cursor: pointer;\n",
              "  display: flex;\n",
              "  width: 100%;\n",
              "  margin-bottom: 0;\n",
              "  padding: 0.5em;\n",
              "  box-sizing: border-box;\n",
              "  text-align: center;\n",
              "  align-items: start;\n",
              "  justify-content: space-between;\n",
              "  gap: 0.5em;\n",
              "}\n",
              "\n",
              "#sk-container-id-5 label.sk-toggleable__label .caption {\n",
              "  font-size: 0.6rem;\n",
              "  font-weight: lighter;\n",
              "  color: var(--sklearn-color-text-muted);\n",
              "}\n",
              "\n",
              "#sk-container-id-5 label.sk-toggleable__label-arrow:before {\n",
              "  /* Arrow on the left of the label */\n",
              "  content: \"▸\";\n",
              "  float: left;\n",
              "  margin-right: 0.25em;\n",
              "  color: var(--sklearn-color-icon);\n",
              "}\n",
              "\n",
              "#sk-container-id-5 label.sk-toggleable__label-arrow:hover:before {\n",
              "  color: var(--sklearn-color-text);\n",
              "}\n",
              "\n",
              "/* Toggleable content - dropdown */\n",
              "\n",
              "#sk-container-id-5 div.sk-toggleable__content {\n",
              "  max-height: 0;\n",
              "  max-width: 0;\n",
              "  overflow: hidden;\n",
              "  text-align: left;\n",
              "  /* unfitted */\n",
              "  background-color: var(--sklearn-color-unfitted-level-0);\n",
              "}\n",
              "\n",
              "#sk-container-id-5 div.sk-toggleable__content.fitted {\n",
              "  /* fitted */\n",
              "  background-color: var(--sklearn-color-fitted-level-0);\n",
              "}\n",
              "\n",
              "#sk-container-id-5 div.sk-toggleable__content pre {\n",
              "  margin: 0.2em;\n",
              "  border-radius: 0.25em;\n",
              "  color: var(--sklearn-color-text);\n",
              "  /* unfitted */\n",
              "  background-color: var(--sklearn-color-unfitted-level-0);\n",
              "}\n",
              "\n",
              "#sk-container-id-5 div.sk-toggleable__content.fitted pre {\n",
              "  /* unfitted */\n",
              "  background-color: var(--sklearn-color-fitted-level-0);\n",
              "}\n",
              "\n",
              "#sk-container-id-5 input.sk-toggleable__control:checked~div.sk-toggleable__content {\n",
              "  /* Expand drop-down */\n",
              "  max-height: 200px;\n",
              "  max-width: 100%;\n",
              "  overflow: auto;\n",
              "}\n",
              "\n",
              "#sk-container-id-5 input.sk-toggleable__control:checked~label.sk-toggleable__label-arrow:before {\n",
              "  content: \"▾\";\n",
              "}\n",
              "\n",
              "/* Pipeline/ColumnTransformer-specific style */\n",
              "\n",
              "#sk-container-id-5 div.sk-label input.sk-toggleable__control:checked~label.sk-toggleable__label {\n",
              "  color: var(--sklearn-color-text);\n",
              "  background-color: var(--sklearn-color-unfitted-level-2);\n",
              "}\n",
              "\n",
              "#sk-container-id-5 div.sk-label.fitted input.sk-toggleable__control:checked~label.sk-toggleable__label {\n",
              "  background-color: var(--sklearn-color-fitted-level-2);\n",
              "}\n",
              "\n",
              "/* Estimator-specific style */\n",
              "\n",
              "/* Colorize estimator box */\n",
              "#sk-container-id-5 div.sk-estimator input.sk-toggleable__control:checked~label.sk-toggleable__label {\n",
              "  /* unfitted */\n",
              "  background-color: var(--sklearn-color-unfitted-level-2);\n",
              "}\n",
              "\n",
              "#sk-container-id-5 div.sk-estimator.fitted input.sk-toggleable__control:checked~label.sk-toggleable__label {\n",
              "  /* fitted */\n",
              "  background-color: var(--sklearn-color-fitted-level-2);\n",
              "}\n",
              "\n",
              "#sk-container-id-5 div.sk-label label.sk-toggleable__label,\n",
              "#sk-container-id-5 div.sk-label label {\n",
              "  /* The background is the default theme color */\n",
              "  color: var(--sklearn-color-text-on-default-background);\n",
              "}\n",
              "\n",
              "/* On hover, darken the color of the background */\n",
              "#sk-container-id-5 div.sk-label:hover label.sk-toggleable__label {\n",
              "  color: var(--sklearn-color-text);\n",
              "  background-color: var(--sklearn-color-unfitted-level-2);\n",
              "}\n",
              "\n",
              "/* Label box, darken color on hover, fitted */\n",
              "#sk-container-id-5 div.sk-label.fitted:hover label.sk-toggleable__label.fitted {\n",
              "  color: var(--sklearn-color-text);\n",
              "  background-color: var(--sklearn-color-fitted-level-2);\n",
              "}\n",
              "\n",
              "/* Estimator label */\n",
              "\n",
              "#sk-container-id-5 div.sk-label label {\n",
              "  font-family: monospace;\n",
              "  font-weight: bold;\n",
              "  display: inline-block;\n",
              "  line-height: 1.2em;\n",
              "}\n",
              "\n",
              "#sk-container-id-5 div.sk-label-container {\n",
              "  text-align: center;\n",
              "}\n",
              "\n",
              "/* Estimator-specific */\n",
              "#sk-container-id-5 div.sk-estimator {\n",
              "  font-family: monospace;\n",
              "  border: 1px dotted var(--sklearn-color-border-box);\n",
              "  border-radius: 0.25em;\n",
              "  box-sizing: border-box;\n",
              "  margin-bottom: 0.5em;\n",
              "  /* unfitted */\n",
              "  background-color: var(--sklearn-color-unfitted-level-0);\n",
              "}\n",
              "\n",
              "#sk-container-id-5 div.sk-estimator.fitted {\n",
              "  /* fitted */\n",
              "  background-color: var(--sklearn-color-fitted-level-0);\n",
              "}\n",
              "\n",
              "/* on hover */\n",
              "#sk-container-id-5 div.sk-estimator:hover {\n",
              "  /* unfitted */\n",
              "  background-color: var(--sklearn-color-unfitted-level-2);\n",
              "}\n",
              "\n",
              "#sk-container-id-5 div.sk-estimator.fitted:hover {\n",
              "  /* fitted */\n",
              "  background-color: var(--sklearn-color-fitted-level-2);\n",
              "}\n",
              "\n",
              "/* Specification for estimator info (e.g. \"i\" and \"?\") */\n",
              "\n",
              "/* Common style for \"i\" and \"?\" */\n",
              "\n",
              ".sk-estimator-doc-link,\n",
              "a:link.sk-estimator-doc-link,\n",
              "a:visited.sk-estimator-doc-link {\n",
              "  float: right;\n",
              "  font-size: smaller;\n",
              "  line-height: 1em;\n",
              "  font-family: monospace;\n",
              "  background-color: var(--sklearn-color-background);\n",
              "  border-radius: 1em;\n",
              "  height: 1em;\n",
              "  width: 1em;\n",
              "  text-decoration: none !important;\n",
              "  margin-left: 0.5em;\n",
              "  text-align: center;\n",
              "  /* unfitted */\n",
              "  border: var(--sklearn-color-unfitted-level-1) 1pt solid;\n",
              "  color: var(--sklearn-color-unfitted-level-1);\n",
              "}\n",
              "\n",
              ".sk-estimator-doc-link.fitted,\n",
              "a:link.sk-estimator-doc-link.fitted,\n",
              "a:visited.sk-estimator-doc-link.fitted {\n",
              "  /* fitted */\n",
              "  border: var(--sklearn-color-fitted-level-1) 1pt solid;\n",
              "  color: var(--sklearn-color-fitted-level-1);\n",
              "}\n",
              "\n",
              "/* On hover */\n",
              "div.sk-estimator:hover .sk-estimator-doc-link:hover,\n",
              ".sk-estimator-doc-link:hover,\n",
              "div.sk-label-container:hover .sk-estimator-doc-link:hover,\n",
              ".sk-estimator-doc-link:hover {\n",
              "  /* unfitted */\n",
              "  background-color: var(--sklearn-color-unfitted-level-3);\n",
              "  color: var(--sklearn-color-background);\n",
              "  text-decoration: none;\n",
              "}\n",
              "\n",
              "div.sk-estimator.fitted:hover .sk-estimator-doc-link.fitted:hover,\n",
              ".sk-estimator-doc-link.fitted:hover,\n",
              "div.sk-label-container:hover .sk-estimator-doc-link.fitted:hover,\n",
              ".sk-estimator-doc-link.fitted:hover {\n",
              "  /* fitted */\n",
              "  background-color: var(--sklearn-color-fitted-level-3);\n",
              "  color: var(--sklearn-color-background);\n",
              "  text-decoration: none;\n",
              "}\n",
              "\n",
              "/* Span, style for the box shown on hovering the info icon */\n",
              ".sk-estimator-doc-link span {\n",
              "  display: none;\n",
              "  z-index: 9999;\n",
              "  position: relative;\n",
              "  font-weight: normal;\n",
              "  right: .2ex;\n",
              "  padding: .5ex;\n",
              "  margin: .5ex;\n",
              "  width: min-content;\n",
              "  min-width: 20ex;\n",
              "  max-width: 50ex;\n",
              "  color: var(--sklearn-color-text);\n",
              "  box-shadow: 2pt 2pt 4pt #999;\n",
              "  /* unfitted */\n",
              "  background: var(--sklearn-color-unfitted-level-0);\n",
              "  border: .5pt solid var(--sklearn-color-unfitted-level-3);\n",
              "}\n",
              "\n",
              ".sk-estimator-doc-link.fitted span {\n",
              "  /* fitted */\n",
              "  background: var(--sklearn-color-fitted-level-0);\n",
              "  border: var(--sklearn-color-fitted-level-3);\n",
              "}\n",
              "\n",
              ".sk-estimator-doc-link:hover span {\n",
              "  display: block;\n",
              "}\n",
              "\n",
              "/* \"?\"-specific style due to the `<a>` HTML tag */\n",
              "\n",
              "#sk-container-id-5 a.estimator_doc_link {\n",
              "  float: right;\n",
              "  font-size: 1rem;\n",
              "  line-height: 1em;\n",
              "  font-family: monospace;\n",
              "  background-color: var(--sklearn-color-background);\n",
              "  border-radius: 1rem;\n",
              "  height: 1rem;\n",
              "  width: 1rem;\n",
              "  text-decoration: none;\n",
              "  /* unfitted */\n",
              "  color: var(--sklearn-color-unfitted-level-1);\n",
              "  border: var(--sklearn-color-unfitted-level-1) 1pt solid;\n",
              "}\n",
              "\n",
              "#sk-container-id-5 a.estimator_doc_link.fitted {\n",
              "  /* fitted */\n",
              "  border: var(--sklearn-color-fitted-level-1) 1pt solid;\n",
              "  color: var(--sklearn-color-fitted-level-1);\n",
              "}\n",
              "\n",
              "/* On hover */\n",
              "#sk-container-id-5 a.estimator_doc_link:hover {\n",
              "  /* unfitted */\n",
              "  background-color: var(--sklearn-color-unfitted-level-3);\n",
              "  color: var(--sklearn-color-background);\n",
              "  text-decoration: none;\n",
              "}\n",
              "\n",
              "#sk-container-id-5 a.estimator_doc_link.fitted:hover {\n",
              "  /* fitted */\n",
              "  background-color: var(--sklearn-color-fitted-level-3);\n",
              "}\n",
              "</style><div id=\"sk-container-id-5\" class=\"sk-top-container\"><div class=\"sk-text-repr-fallback\"><pre>RandomForestRegressor(random_state=42)</pre><b>In a Jupyter environment, please rerun this cell to show the HTML representation or trust the notebook. <br />On GitHub, the HTML representation is unable to render, please try loading this page with nbviewer.org.</b></div><div class=\"sk-container\" hidden><div class=\"sk-item\"><div class=\"sk-estimator fitted sk-toggleable\"><input class=\"sk-toggleable__control sk-hidden--visually\" id=\"sk-estimator-id-5\" type=\"checkbox\" checked><label for=\"sk-estimator-id-5\" class=\"sk-toggleable__label fitted sk-toggleable__label-arrow\"><div><div>RandomForestRegressor</div></div><div><a class=\"sk-estimator-doc-link fitted\" rel=\"noreferrer\" target=\"_blank\" href=\"https://scikit-learn.org/1.6/modules/generated/sklearn.ensemble.RandomForestRegressor.html\">?<span>Documentation for RandomForestRegressor</span></a><span class=\"sk-estimator-doc-link fitted\">i<span>Fitted</span></span></div></label><div class=\"sk-toggleable__content fitted\"><pre>RandomForestRegressor(random_state=42)</pre></div> </div></div></div></div>"
            ]
          },
          "metadata": {},
          "execution_count": 170
        }
      ]
    },
    {
      "cell_type": "markdown",
      "source": [
        "# Evaluation and discussion"
      ],
      "metadata": {
        "id": "M5O52O0Z_HDh"
      }
    },
    {
      "cell_type": "code",
      "source": [
        "# Predict\n",
        "y_pred=rf.predict(X_test)\n",
        "# Metrics\n",
        "r2=r2_score(y_test, y_pred)\n",
        "rmse=np.sqrt(mean_squared_error(y_test, y_pred))\n",
        "print(f\"R2 Score: {r2:.3f}\")\n",
        "print(f\"RMSE: {rmse:.3f}\")"
      ],
      "metadata": {
        "colab": {
          "base_uri": "https://localhost:8080/"
        },
        "id": "SLlTJ1UwsHbn",
        "outputId": "93ebdec2-8014-4ad3-b8a9-e7166d549e59"
      },
      "execution_count": 171,
      "outputs": [
        {
          "output_type": "stream",
          "name": "stdout",
          "text": [
            "R2 Score: 0.978\n",
            "RMSE: 2.287\n"
          ]
        }
      ]
    },
    {
      "cell_type": "markdown",
      "source": [
        "# Plots showing score trends, prediction error, model behavior across sessions"
      ],
      "metadata": {
        "id": "79x3PbUK_bHK"
      }
    },
    {
      "cell_type": "code",
      "source": [
        "from sklearn.inspection import permutation_importance\n",
        "perm_importance = permutation_importance(rf, X_test, y_test, n_repeats=10, random_state=42)\n",
        "importance_df = pd.DataFrame({\n",
        "    'feature': feature_cols,\n",
        "    'importance': perm_importance.importances_mean\n",
        "}).sort_values(by='importance', ascending=False)\n",
        "plt.figure(figsize=(8, 4))\n",
        "sns.barplot(x='importance', y='feature', data=importance_df)\n",
        "plt.title(\"Permutation Importance of Features\")\n",
        "plt.tight_layout()\n",
        "plt.show()"
      ],
      "metadata": {
        "colab": {
          "base_uri": "https://localhost:8080/",
          "height": 393
        },
        "id": "N8fEIDWt2Pt-",
        "outputId": "95770981-f908-41ea-ee47-2cd5a056f193"
      },
      "execution_count": 172,
      "outputs": [
        {
          "output_type": "display_data",
          "data": {
            "text/plain": [
              "<Figure size 800x400 with 1 Axes>"
            ],
            "image/png": "[encoded data removed]"
          },
          "metadata": {}
        }
      ]
    },
    {
      "cell_type": "code",
      "source": [
        "import shap\n",
        "explainer = shap.TreeExplainer(rf)\n",
        "shap_values = explainer.shap_values(X_test)\n",
        "shap.summary_plot(shap_values, X_test, plot_type=\"bar\")"
      ],
      "metadata": {
        "colab": {
          "base_uri": "https://localhost:8080/",
          "height": 303
        },
        "id": "1BshdhNZ1obs",
        "outputId": "b757afac-cef3-4807-ff1e-efde829811c1"
      },
      "execution_count": 173,
      "outputs": [
        {
          "output_type": "display_data",
          "data": {
            "text/plain": [
              "<Figure size 800x310 with 1 Axes>"
            ],
            "image/png": "[encoded data removed]"
          },
          "metadata": {}
        }
      ]
    },
    {
      "cell_type": "code",
      "source": [
        "importances = rf.feature_importances_\n",
        "plt.figure(figsize=(8, 4))\n",
        "plt.barh(feature_cols, importances)\n",
        "plt.title(\"feature weights\")\n",
        "plt.xlabel(\"Importance\")\n",
        "plt.tight_layout()\n",
        "plt.show()"
      ],
      "metadata": {
        "colab": {
          "base_uri": "https://localhost:8080/",
          "height": 393
        },
        "id": "BN5WR4NEsNES",
        "outputId": "a3c0395d-0508-43b8-eaf9-16d2b3deee84"
      },
      "execution_count": 174,
      "outputs": [
        {
          "output_type": "display_data",
          "data": {
            "text/plain": [
              "<Figure size 800x400 with 1 Axes>"
            ],
            "image/png": "[encoded data removed]"
          },
          "metadata": {}
        }
      ]
    },
    {
      "cell_type": "code",
      "source": [
        "from sklearn.metrics import classification_report, confusion_matrix\n",
        "from sklearn.ensemble import RandomForestClassifier\n",
        "# Define high vs. low boredom states\n",
        "# Define feature matrix (X) and target vector (y)\n",
        "X = df_all_sess_norm[feature_cols]\n",
        "y = df_all_sess_norm[target_col]\n",
        "threshold = y.median()\n",
        "df_all_sess_norm['boredom_class'] = (df_all_sess_norm['boredom_score'] > threshold).astype(int)  # 1 = high, 0 = low\n",
        "# Classification model inputs\n",
        "X_cls = df_all_sess_norm[feature_cols]\n",
        "y_cls = df_all_sess_norm['boredom_class']\n",
        "# Train/test split\n",
        "X_train_cls, X_test_cls, y_train_cls, y_test_cls = train_test_split(X_cls, y_cls, test_size=0.2, random_state=42)\n",
        "# Train classifier\n",
        "clf = RandomForestClassifier(n_estimators=100, random_state=42)\n",
        "clf.fit(X_train_cls, y_train_cls)\n",
        "y_pred_cls = clf.predict(X_test_cls)\n",
        "# Evaluation\n",
        "print(\"Classification Report:\\n\", classification_report(y_test_cls, y_pred_cls))\n",
        "print(\"Confusion Matrix:\\n\", confusion_matrix(y_test_cls, y_pred_cls))"
      ],
      "metadata": {
        "colab": {
          "base_uri": "https://localhost:8080/"
        },
        "id": "JFHr9v2420CR",
        "outputId": "9863ed0e-932a-41a0-e0d0-0da98bfe20fa"
      },
      "execution_count": 175,
      "outputs": [
        {
          "output_type": "stream",
          "name": "stdout",
          "text": [
            "Classification Report:\n",
            "               precision    recall  f1-score   support\n",
            "\n",
            "           0       1.00      1.00      1.00        39\n",
            "           1       1.00      1.00      1.00        48\n",
            "\n",
            "    accuracy                           1.00        87\n",
            "   macro avg       1.00      1.00      1.00        87\n",
            "weighted avg       1.00      1.00      1.00        87\n",
            "\n",
            "Confusion Matrix:\n",
            " [[39  0]\n",
            " [ 0 48]]\n"
          ]
        }
      ]
    },
    {
      "cell_type": "code",
      "source": [
        "from sklearn.metrics import roc_curve, auc\n",
        "y_probs = clf.predict_proba(X_test_cls)[:, 1]\n",
        "fpr, tpr, _ = roc_curve(y_test_cls, y_probs)\n",
        "roc_auc = auc(fpr, tpr)\n",
        "plt.figure()\n",
        "plt.plot(fpr, tpr, label=f\"ROC curve (AUC = {roc_auc:.2f})\")\n",
        "plt.plot([0, 1], [0, 1])\n",
        "plt.xlabel(\"False Positive Rate\")\n",
        "plt.ylabel(\"True Positive Rate\")\n",
        "plt.title(\"ROC Curve for Boredom Classification\")\n",
        "plt.legend()\n",
        "plt.grid()\n",
        "plt.show()\n"
      ],
      "metadata": {
        "colab": {
          "base_uri": "https://localhost:8080/",
          "height": 485
        },
        "id": "Ay-eAeJr3zzq",
        "outputId": "30f9df05-f96a-4b4f-c3c8-979d004d1d03"
      },
      "execution_count": 179,
      "outputs": [
        {
          "output_type": "display_data",
          "data": {
            "text/plain": [
              "<Figure size 640x480 with 1 Axes>"
            ],
            "image/png": "[encoded data removed]"
          },
          "metadata": {}
        }
      ]
    },
    {
      "cell_type": "markdown",
      "source": [
        "# Necessary Plots"
      ],
      "metadata": {
        "id": "NC-3KVELaZks"
      }
    },
    {
      "cell_type": "markdown",
      "source": [
        "Using this data we can plot the psychometric curve and compute some performance metrics, for example the number of trials in the session or the performance of the mouse on easy trials (50% and 100% contrast)"
      ],
      "metadata": {
        "id": "5UnrIUivqZs9"
      }
    },
    {
      "cell_type": "code",
      "source": [
        "from brainbox.behavior.training import plot_psychometric, compute_n_trials, compute_performance_easy, compute_performance\n",
        "\n",
        "plot_psychometric(trials)\n",
        "n_trials = compute_n_trials(trials)\n",
        "perf_easy = compute_performance_easy(trials)\n",
        "print(f'Number of trials for session {sess}: {n_trials}')\n",
        "print(f'Performance easy for session {sess}: {perf_easy}')"
      ],
      "metadata": {
        "colab": {
          "base_uri": "https://localhost:8080/",
          "height": 497
        },
        "id": "ddBg7YUUqaUG",
        "outputId": "ecfc659c-d66e-4e24-8d1f-b61aec2f84fa"
      },
      "execution_count": 146,
      "outputs": [
        {
          "output_type": "stream",
          "name": "stdout",
          "text": [
            "Number of trials for session a4f7079b-d157-4de9-ba80-de9a98f35c8b: 435\n",
            "Performance easy for session a4f7079b-d157-4de9-ba80-de9a98f35c8b: 0.8295454545454546\n"
          ]
        },
        {
          "output_type": "display_data",
          "data": {
            "text/plain": [
              "<Figure size 640x480 with 1 Axes>"
            ],
            "image/png": "[encoded data removed]"
          },
          "metadata": {}
        }
      ]
    }
  ]
}