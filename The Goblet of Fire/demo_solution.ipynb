{
  "cells": [
    {
      "cell_type": "markdown",
      "metadata": {
        "id": "view-in-github",
        "colab_type": "text"
      },
      "source": [
        "<a href=\"https://colab.research.google.com/github/gaixen/BCS_recruitment/blob/main/The%20Goblet%20of%20Fire/demo_solution.ipynb\" target=\"_parent\"><img src=\"https://colab.research.google.com/assets/colab-badge.svg\" alt=\"Open In Colab\"/></a>"
      ]
    },
    {
      "cell_type": "code",
      "execution_count": 30,
      "metadata": {
        "colab": {
          "base_uri": "https://localhost:8080/"
        },
        "id": "3K7qluR7btoX",
        "outputId": "7bf59739-4a81-43ff-b143-871106ed6d8e"
      },
      "outputs": [
        {
          "output_type": "stream",
          "name": "stdout",
          "text": [
            "Requirement already satisfied: constants in /usr/local/lib/python3.11/dist-packages (0.6.0)\n"
          ]
        }
      ],
      "source": [
        "pip install constants"
      ]
    },
    {
      "cell_type": "code",
      "execution_count": 31,
      "metadata": {
        "colab": {
          "base_uri": "https://localhost:8080/"
        },
        "id": "C34D7MX90ScW",
        "outputId": "676d6043-6daa-4fde-c866-5683cdd3d5a6"
      },
      "outputs": [
        {
          "output_type": "stream",
          "name": "stdout",
          "text": [
            "Requirement already satisfied: pygame in /usr/local/lib/python3.11/dist-packages (2.6.1)\n",
            "Requirement already satisfied: gymnasium in /usr/local/lib/python3.11/dist-packages (1.1.1)\n",
            "Requirement already satisfied: numpy>=1.21.0 in /usr/local/lib/python3.11/dist-packages (from gymnasium) (2.0.2)\n",
            "Requirement already satisfied: cloudpickle>=1.2.0 in /usr/local/lib/python3.11/dist-packages (from gymnasium) (3.1.1)\n",
            "Requirement already satisfied: typing-extensions>=4.3.0 in /usr/local/lib/python3.11/dist-packages (from gymnasium) (4.13.2)\n",
            "Requirement already satisfied: farama-notifications>=0.0.1 in /usr/local/lib/python3.11/dist-packages (from gymnasium) (0.0.4)\n"
          ]
        }
      ],
      "source": [
        "pip install pygame gymnasium"
      ]
    },
    {
      "cell_type": "markdown",
      "metadata": {
        "id": "5gGub1uExf8D"
      },
      "source": [
        "# Loading dependencies"
      ]
    },
    {
      "cell_type": "code",
      "execution_count": 32,
      "metadata": {
        "id": "LlBqNatnKMB-"
      },
      "outputs": [],
      "source": [
        "from collections import defaultdict\n",
        "import gymnasium as gym\n",
        "import numpy as np\n",
        "import pygame\n",
        "import random\n",
        "from constants import *\n",
        "from collections import deque\n",
        "# from maze_loader import load_maze"
      ]
    },
    {
      "cell_type": "code",
      "execution_count": 33,
      "metadata": {
        "id": "q8C-r6x_qynQ"
      },
      "outputs": [],
      "source": [
        "#seting up the visuals for the maze 10 by 15\n",
        "cell_size=40 #pixels\n",
        "maze_width=15\n",
        "maze_height=10\n",
        "screen_width=maze_width*cell_size\n",
        "screen_height=maze_height*cell_size\n",
        "white=(255,255,255)\n",
        "black=(0,0,0)\n",
        "red=(255,0,0)\n",
        "green=(0,255,0)\n",
        "blue=(0,0,255)\n",
        "gray=(160,160,160)"
      ]
    },
    {
      "cell_type": "code",
      "execution_count": 34,
      "metadata": {
        "id": "vEH2XTcNr-GM"
      },
      "outputs": [],
      "source": [
        "wall_file='/content/V1.txt'\n",
        "def maze(wall_file):\n",
        "  walls=set()\n",
        "  cup=None\n",
        "  with open(wall_file,'r')as f:\n",
        "    for y,line in enumerate(f):\n",
        "      for x,char in enumerate(line.strip()):\n",
        "        if char=='x':\n",
        "          walls.add((x,y))\n",
        "        elif char=='*':\n",
        "          cup=(x,y)\n",
        "\n",
        "  return walls,cup"
      ]
    },
    {
      "cell_type": "markdown",
      "metadata": {
        "id": "eqhgK0KWL3Oa"
      },
      "source": [
        "# Setting up the enviroment"
      ]
    },
    {
      "cell_type": "code",
      "execution_count": 35,
      "metadata": {
        "id": "HB-kVZukKUWQ"
      },
      "outputs": [],
      "source": [
        "class createenviroment:\n",
        "  def __init__(self,wall_file):\n",
        "      #initialising the enviroment variables walls,cup position etc\n",
        "      self.walls,self.cup=maze(wall_file)\n",
        "      self.maze = [[0 for _ in range(maze_width)] for _ in range(maze_height)]\n",
        "      for (x, y) in self.walls:\n",
        "        self.maze[y][x] = 1\n",
        "      self.return_queue=[]\n",
        "      self.length_queue=[]\n",
        "      #reset the variables if certain criteria don't match\n",
        "      #reset conditions defined later\n",
        "      self.reset()\n",
        "\n",
        "  def get_randomposition(self):\n",
        "    #generating random positions not coinsiding with the walls\n",
        "    while True:\n",
        "      x=random.randint(0,maze_width-1)\n",
        "      y=random.randint(0,maze_height-1)\n",
        "      if (x,y) not in self.walls:\n",
        "        return (x,y)\n",
        "      else:\n",
        "        pass\n",
        "\n",
        "  def reset(self):\n",
        "    #reseting preacher position in case it coinsides randomly with harry's position\n",
        "    self.harry=self.get_randomposition()\n",
        "    self.preacher=self.get_randomposition()\n",
        "    self.cup=self.get_randomposition()\n",
        "    if self.preacher==self.harry:\n",
        "      self.preacher=self.get_randomposition()\n",
        "    elif self.preacher==self.cup:\n",
        "      self.cup=self.get_randomposition()\n",
        "    elif self.harry==self.cup:\n",
        "      self.cup=self.get_randomposition()\n",
        "    self.done=False\n",
        "    observation = (self.harry[0], self.harry[1],\n",
        "                   self.preacher[0] - self.harry[0], self.preacher[1] - self.harry[1],\n",
        "                   self.cup[0] - self.harry[0], self.cup[1] - self.harry[1])\n",
        "    return observation\n",
        "\n",
        "  def valid_move(self,position):\n",
        "    return (0<=position[0]<maze_width) and (0<=position[1]<maze_height) and (position not in self.walls)\n",
        "\n",
        "  def step(self,action):\n",
        "    #classifying all moves in 4 categories\n",
        "    x,y=self.harry\n",
        "    if action==0:#left\n",
        "      update_position=(x-1,y)\n",
        "    elif action==1:#right\n",
        "      update_position=(x+1,y)\n",
        "    elif action==2:#up\n",
        "      update_position=(x,y-1)\n",
        "    elif action==3:#down\n",
        "      update_position=(x,y+1)\n",
        "    else:\n",
        "      update_position=(x,y)\n",
        "\n",
        "    if self.valid_move(update_position):\n",
        "      self.harry=update_position\n",
        "    else:\n",
        "      self.harry=self.harry\n",
        "\n",
        "    self.move_preacher()\n",
        "    reward=self.get_reward()\n",
        "    self.done=self.harry==self.cup or self.harry==self.preacher\n",
        "    observation = (self.harry[0], self.harry[1],\n",
        "                   self.preacher[0] - self.harry[0], self.preacher[1] - self.harry[1],\n",
        "                   self.cup[0] - self.harry[0], self.cup[1] - self.harry[1])\n",
        "\n",
        "    terminated =(self.harry==self.cup)\n",
        "    truncated =(self.harry==self.preacher)\n",
        "    self.done = terminated or truncated\n",
        "    info = {\n",
        "        \"harry_position\": self.harry,\n",
        "        \"preacher_position\": self.preacher,\n",
        "        \"cup_position\": self.cup\n",
        "    }\n",
        "    return observation, reward, terminated, truncated, info\n",
        "\n",
        "  def get_reward(self):\n",
        "    if self.harry==self.cup:\n",
        "      return 100\n",
        "    elif self.harry==self.preacher:\n",
        "      return -100\n",
        "    elif self.harry==self.walls:\n",
        "      return -5\n",
        "    else:\n",
        "      return -1\n",
        "#implementation of Breadth first search algorithm\n",
        "\n",
        "  def move_preacher(self):\n",
        "    next_step=self.bfs(self.preacher,self.harry)\n",
        "    if next_step:\n",
        "      self.preacher=next_step\n",
        "\n",
        "  def bfs(self,start,goal):#breadth first search algorithm\n",
        "    # start=self.harry\n",
        "    # goal=self.cup\n",
        "    # if start==goal:\n",
        "    #   return start\n",
        "\n",
        "    queue=deque()\n",
        "    queue.append((start,[]))\n",
        "    visited=set()\n",
        "    visited.add(start)\n",
        "\n",
        "    while queue:\n",
        "\n",
        "      current_position,path=queue.popleft()\n",
        "      x,y=current_position\n",
        "      movement=[(1,0),(-1,0),(0,1),(0,-1)]\n",
        "      for h,k in movement:\n",
        "        update_position=(x+h,y+k)\n",
        "\n",
        "      if not self.valid_move(update_position)or update_position in visited:\n",
        "        continue\n",
        "\n",
        "      if update_position==goal:\n",
        "        return path[0] if path else update_position\n",
        "\n",
        "      queue.append((update_position,path+[update_position]))\n",
        "      visited.add(update_position)\n",
        "\n",
        "    return start"
      ]
    },
    {
      "cell_type": "code",
      "source": [
        "env=createenviroment('/content/V1.txt')"
      ],
      "metadata": {
        "id": "q3enmdd1T6--"
      },
      "execution_count": 36,
      "outputs": []
    },
    {
      "cell_type": "markdown",
      "metadata": {
        "id": "vr8hOvIgbJli"
      },
      "source": [
        "## **Visualization using pygame**\n",
        "# Disclaimer:Run at your own risk\n",
        "\n",
        "---\n",
        "\n"
      ]
    },
    {
      "cell_type": "code",
      "execution_count": 37,
      "metadata": {
        "id": "pJ7lkXbnbVTn",
        "collapsed": true
      },
      "outputs": [],
      "source": [
        "# pygame.init()\n",
        "# screen=pygame.display.set_mode((screen_width,screen_height))\n",
        "# pygame.display.set_caption(\"enviroment visualisation using pygame\")\n",
        "# env=createenviroment('/content/V1.txt')\n",
        "# running=True\n",
        "# while running:\n",
        "#   screen.fill(white)\n",
        "\n",
        "#   for event in pygame.event.get():\n",
        "#     if event.type==pygame.QUIT:\n",
        "#       running=False\n",
        "\n",
        "#   for (x,y) in env.walls:\n",
        "#     pygame.draw.rect(screen,gray,(x*cell_size,y*cell_size,cell_size,cell_size))\n",
        "\n",
        "# harry_x, harry_y = env.self.harry\n",
        "# pygame.draw.rect(screen, blue, (harry_x * cell_size, harry_y * cell_size, cell_size, cell_size))\n",
        "# preacher_x, preacher_y = env.self.preacher\n",
        "# pygame.draw.rect(screen, red, (preacher_x * cell_size, preacher_y * cell_size, cell_size, cell_size))\n",
        "# cup_x, cup_y = env.self.cup\n",
        "# pygame.draw.rect(screen, green, (cup_x * cell_size, cup_y * cell_size, cell_size, cell_size))\n",
        "# pygame.display.flip()"
      ]
    },
    {
      "cell_type": "markdown",
      "metadata": {
        "id": "ntRZePhDOWbg"
      },
      "source": [
        "# Training the agent"
      ]
    },
    {
      "cell_type": "code",
      "source": [
        "class Qtable:\n",
        "  def __init__(\n",
        "      self,\n",
        "      action,learning_rate=0.01,\n",
        "      discount_factor=0.95,\n",
        "      epsilon=1,\n",
        "      epsilon_min=0.01,\n",
        "      epsilon_decay=0.995,\n",
        "  ):\n",
        "      self.q_table=defaultdict(lambda:np.zeros(len(action)))\n",
        "      self.action=action\n",
        "      self.lr=learning_rate\n",
        "      self.gamma=discount_factor\n",
        "      self.epsilon=epsilon\n",
        "      self.epsilon_min=epsilon_min\n",
        "      self.epsilon_decay_rate=epsilon_decay\n",
        "      self.training_error = deque(maxlen=10000)\n",
        "\n",
        "  def get_state(self,harry_pos,preacher_pos,cup_pos,maze):\n",
        "    harry_x,harry_y=harry_pos\n",
        "    preacher_x,preacher_y=preacher_pos\n",
        "    cup_x,cup_y=cup_pos\n",
        "    def is_wall(x, y):\n",
        "        if 0 <= x < len(maze) and 0 <= y < len(maze[0]):\n",
        "            return 1 if maze[x][y] == 1 else 0  # 1 = wall\n",
        "        return 1\n",
        "    wall_up=is_wall(harry_x,harry_y-1)\n",
        "    wall_down=is_wall(harry_x,harry_y+1)\n",
        "    wall_left=is_wall(harry_x-1,harry_y)\n",
        "    wall_right=is_wall(harry_x+1,harry_y)\n",
        "    return (harry_x,harry_y,preacher_x-harry_x,preacher_y-harry_y,cup_x-harry_x,cup_y-harry_y,wall_up,wall_down,wall_left,wall_right)\n",
        "\n",
        "  def chooseaction(self,state):#choose between expoartion and expoitation\n",
        "    if random.random() < self.epsilon:#exploration\n",
        "      return random.choice(self.action)\n",
        "    else:#exploitation\n",
        "      state_key = state\n",
        "      return np.argmax(self.q_table[state])\n",
        "\n",
        "  def update(self, state, action, reward, next_state):\n",
        "    state_key = state\n",
        "    next_state_key = next_state\n",
        "    best_next_action = np.max(self.q_table[next_state_key])\n",
        "    temporal_difference_target = reward + self.gamma * best_next_action\n",
        "    temporal_difference_error = temporal_difference_target - self.q_table[state_key][action]\n",
        "    self.q_table[state_key][action] += self.lr * temporal_difference_error\n",
        "    self.training_error.append(temporal_difference_error)\n",
        "\n",
        "  def decay_epsilon(self):\n",
        "    if self.epsilon > self.epsilon_min:\n",
        "      self.epsilon *= self.epsilon_decay_rate\n",
        "\n"
      ],
      "metadata": {
        "id": "MRPYymt9Nq2s"
      },
      "execution_count": 49,
      "outputs": []
    },
    {
      "cell_type": "markdown",
      "source": [
        "###Balancing epsilon decay over number of episodes"
      ],
      "metadata": {
        "id": "9SKtrdhP0WZH"
      }
    },
    {
      "cell_type": "code",
      "source": [
        "import matplotlib.pyplot as plt\n",
        "#ensuring epsilon reaches min value after a goog explorative start and not too quick\n",
        "#ensuring enough exploration before exploitation\n",
        "#This happens as I kept n_episodes quite large"
      ],
      "metadata": {
        "id": "Bpp-tiSGzzsX"
      },
      "execution_count": 50,
      "outputs": []
    },
    {
      "cell_type": "code",
      "source": [
        "epsilons = []\n",
        "epsilon = 1.0\n",
        "for _ in range(1000):\n",
        "    epsilons.append(epsilon)\n",
        "    epsilon = max(epsilon * 0.995, 0.01)\n",
        "plt.plot(epsilons)\n",
        "plt.xlabel(\"n_episode\")\n",
        "plt.ylabel(\"epsilon\")"
      ],
      "metadata": {
        "id": "uKuYC6kqzxDY",
        "outputId": "252b265a-38b7-4831-dd98-091123035d6b",
        "colab": {
          "base_uri": "https://localhost:8080/",
          "height": 0
        }
      },
      "execution_count": 51,
      "outputs": [
        {
          "output_type": "execute_result",
          "data": {
            "text/plain": [
              "Text(0, 0.5, 'epsilon')"
            ]
          },
          "metadata": {},
          "execution_count": 51
        },
        {
          "output_type": "display_data",
          "data": {
            "text/plain": [
              "<Figure size 640x480 with 1 Axes>"
            ],
            "image/png": "[encoded data removed]"
          },
          "metadata": {}
        }
      ]
    },
    {
      "cell_type": "markdown",
      "source": [
        "##Training Loop"
      ],
      "metadata": {
        "id": "O8CQPRt80hqw"
      }
    },
    {
      "cell_type": "code",
      "execution_count": 52,
      "metadata": {
        "id": "P-8ylGJxOa4Y",
        "colab": {
          "base_uri": "https://localhost:8080/"
        },
        "outputId": "aa71a387-bda1-49df-e090-ee315223e4fe"
      },
      "outputs": [
        {
          "output_type": "stream",
          "name": "stderr",
          "text": [
            "100%|██████████| 100000/100000 [06:17<00:00, 264.72it/s]"
          ]
        },
        {
          "output_type": "stream",
          "name": "stdout",
          "text": [
            "Total Successes: 42564 out of 100000 episodes\n"
          ]
        },
        {
          "output_type": "stream",
          "name": "stderr",
          "text": [
            "\n"
          ]
        }
      ],
      "source": [
        "from tqdm import tqdm\n",
        "import numpy as np\n",
        "learning_rate = 0.01\n",
        "n_episodes = 100000\n",
        "start_epsilon = 1.0\n",
        "final_epsilon = 0.01\n",
        "\n",
        "env=createenviroment('/content/V1.txt')\n",
        "agent = Qtable(action=[0, 1, 2, 3],epsilon_decay=0.995)\n",
        "num_episode=n_episodes\n",
        "#a reward list is initialised and a success count is initialised to zero\n",
        "rewards=[]\n",
        "success_count=0\n",
        "env.return_queue = deque(maxlen=n_episodes) # For plotting rewards\n",
        "env.length_queue = deque(maxlen=n_episodes) # For plotting episode lengths\n",
        "\n",
        "for episode in tqdm(range(num_episode)):\n",
        "    #env.reset() returns the initial observation (harry's position)\n",
        "    initial_harry_pos = env.reset()\n",
        "    #get the initial state for the Q-learning agent\n",
        "    harry_pos, cup_pos, preacher_pos = env.harry, env.cup, env.preacher\n",
        "    state = agent.get_state(harry_pos, preacher_pos, cup_pos,env.maze)\n",
        "\n",
        "    cumulative_reward = 0\n",
        "    done = False\n",
        "    step_count = 0 #track steps per episode\n",
        "\n",
        "\n",
        "    while not done:\n",
        "        #action = agent.choose_action(state)\n",
        "        action = agent.chooseaction(state)\n",
        "        #env.step returns observation, reward, terminated, truncated, info\n",
        "        observation, reward, terminated, truncated, info = env.step(action)\n",
        "        rewards.append(reward)\n",
        "        #Get the next state from the new positions after the step\n",
        "        next_harry_pos, cup_pos, preacher_pos = env.harry, env.cup, env.preacher\n",
        "        next_state = agent.get_state(next_harry_pos, cup_pos, preacher_pos,env.maze)\n",
        "\n",
        "        #Q-table update\n",
        "        agent.update(state, action, reward, next_state)\n",
        "\n",
        "        #transition into the next state\n",
        "        state = next_state\n",
        "        cumulative_reward += reward\n",
        "        step_count += 1\n",
        "\n",
        "        #the episode ends if terminated or truncated\n",
        "        done = terminated or truncated\n",
        "\n",
        "    #decay epsilon after each episode\n",
        "    agent.decay_epsilon()\n",
        "    rewards.append(cumulative_reward) #keep track of rewards\n",
        "    env.return_queue.append(cumulative_reward)\n",
        "    env.length_queue.append(step_count)\n",
        "\n",
        "    #success is defined by reaching the cup (reward 100)\n",
        "    if env.harry == env.cup:\n",
        "         success_count += 1\n",
        "\n",
        "\n",
        "    # if episode % 1000 == 0: # Print less frequently for 100k episodes\n",
        "    #     print(f\"\\nEpisode {episode}, Reward: {cumulative_reward}, Epsilon: {agent.epsilon:.3f}, Steps: {step_count}\")\n",
        "\n",
        "print(f\"Total Success: {success_count} out of {num_episode} episodes\")"
      ]
    },
    {
      "cell_type": "markdown",
      "source": [
        "# Plotting the observations\n"
      ],
      "metadata": {
        "id": "b0HCvdvvjn1_"
      }
    },
    {
      "cell_type": "code",
      "source": [
        "import matplotlib.pyplot as plt\n",
        "#Plotting Reward against number of episodes\n",
        "plt.plot(rewards)\n",
        "plt.xlabel('Episode')\n",
        "plt.ylabel('cumulative reward')\n",
        "plt.grid(True)\n",
        "plt.show()\n"
      ],
      "metadata": {
        "colab": {
          "base_uri": "https://localhost:8080/",
          "height": 472
        },
        "id": "j4KoCXrAjm3u",
        "outputId": "6060ef4f-c48e-4859-8bb4-30e4b4867db0"
      },
      "execution_count": 53,
      "outputs": [
        {
          "output_type": "display_data",
          "data": {
            "text/plain": [
              "<Figure size 640x480 with 1 Axes>"
            ],
            "image/png": "[encoded data removed]"
          },
          "metadata": {}
        }
      ]
    },
    {
      "cell_type": "code",
      "source": [
        "#Plotting a rolling mean for the return value\n",
        "#since this is subject to take only some values within fixed range\n",
        "import pandas as pd\n",
        "smoothed = pd.Series(env.return_queue).rolling(500).mean()\n",
        "plt.plot(smoothed)"
      ],
      "metadata": {
        "colab": {
          "base_uri": "https://localhost:8080/",
          "height": 447
        },
        "id": "6w9qMeKXlGBN",
        "outputId": "c7af4fab-db39-467b-a36a-6d17a02ff157"
      },
      "execution_count": 54,
      "outputs": [
        {
          "output_type": "execute_result",
          "data": {
            "text/plain": [
              "[<matplotlib.lines.Line2D at 0x7cd8aacfaed0>]"
            ]
          },
          "metadata": {},
          "execution_count": 54
        },
        {
          "output_type": "display_data",
          "data": {
            "text/plain": [
              "<Figure size 640x480 with 1 Axes>"
            ],
            "image/png": "[encoded data removed]"
          },
          "metadata": {}
        }
      ]
    }
  ],
  "metadata": {
    "colab": {
      "provenance": [],
      "authorship_tag": "ABX9TyOkq8h2gn1nmAOw0qYjKa+y",
      "include_colab_link": true
    },
    "kernelspec": {
      "display_name": "Python 3",
      "name": "python3"
    },
    "language_info": {
      "name": "python"
    }
  },
  "nbformat": 4,
  "nbformat_minor": 0
}